{
 "cells": [
  {
   "cell_type": "markdown",
   "metadata": {},
   "source": [
    "# IMDB Binary Classification\n",
    "From Deep Learning with Python, Chapter 3\n",
    "\n",
    "The IMDB dataset is a set of 50K highly polarized film reviews from IMDB split into 25K training reviews and 25K testing reviews. The aim of this notebook is to learn how to classify film reviews as positive or negative based on the text of the reviews.\n",
    "\n",
    "The IMDB dataset has already been processed so that the text of each review is represented by a sequence of integers. Each integer is an index into a dictionary of words. In this notebook we will use a dictionary of the 10K most frequent words."
   ]
  },
  {
   "cell_type": "code",
   "execution_count": 1,
   "metadata": {},
   "outputs": [
    {
     "name": "stderr",
     "output_type": "stream",
     "text": [
      "Using TensorFlow backend.\n"
     ]
    }
   ],
   "source": [
    "from keras.datasets import imdb\n",
    "\n",
    "(train_data, train_labels), (test_data, test_labels) = imdb.load_data(num_words=10000)"
   ]
  },
  {
   "cell_type": "code",
   "execution_count": 2,
   "metadata": {},
   "outputs": [
    {
     "name": "stdout",
     "output_type": "stream",
     "text": [
      "train_data: 1 (25000,) object\n",
      "train_labels: 1 (25000,) int64\n"
     ]
    }
   ],
   "source": [
    "print(\"train_data:\", train_data.ndim, train_data.shape, train_data.dtype)\n",
    "print(\"train_labels:\", train_labels.ndim, train_labels.shape, train_labels.dtype)"
   ]
  },
  {
   "cell_type": "code",
   "execution_count": 3,
   "metadata": {},
   "outputs": [
    {
     "name": "stdout",
     "output_type": "stream",
     "text": [
      "[1, 14, 22, 16, 43, 530, 973, 1622, 1385, 65, 458, 4468, 66, 3941, 4, 173, 36, 256, 5, 25, 100, 43, 838, 112, 50, 670, 2, 9, 35, 480, 284, 5, 150, 4, 172, 112, 167, 2, 336, 385, 39, 4, 172, 4536, 1111, 17, 546, 38, 13, 447, 4, 192, 50, 16, 6, 147, 2025, 19, 14, 22, 4, 1920, 4613, 469, 4, 22, 71, 87, 12, 16, 43, 530, 38, 76, 15, 13, 1247, 4, 22, 17, 515, 17, 12, 16, 626, 18, 2, 5, 62, 386, 12, 8, 316, 8, 106, 5, 4, 2223, 5244, 16, 480, 66, 3785, 33, 4, 130, 12, 16, 38, 619, 5, 25, 124, 51, 36, 135, 48, 25, 1415, 33, 6, 22, 12, 215, 28, 77, 52, 5, 14, 407, 16, 82, 2, 8, 4, 107, 117, 5952, 15, 256, 4, 2, 7, 3766, 5, 723, 36, 71, 43, 530, 476, 26, 400, 317, 46, 7, 4, 2, 1029, 13, 104, 88, 4, 381, 15, 297, 98, 32, 2071, 56, 26, 141, 6, 194, 7486, 18, 4, 226, 22, 21, 134, 476, 26, 480, 5, 144, 30, 5535, 18, 51, 36, 28, 224, 92, 25, 104, 4, 226, 65, 16, 38, 1334, 88, 12, 16, 283, 5, 16, 4472, 113, 103, 32, 15, 16, 5345, 19, 178, 32]\n",
      "1\n"
     ]
    }
   ],
   "source": [
    "print(train_data[0])\n",
    "print(train_labels[0])"
   ]
  },
  {
   "cell_type": "markdown",
   "metadata": {},
   "source": [
    "We can easily decode the reviews back into words"
   ]
  },
  {
   "cell_type": "code",
   "execution_count": 4,
   "metadata": {},
   "outputs": [
    {
     "name": "stdout",
     "output_type": "stream",
     "text": [
      "? this film was just brilliant casting location scenery story direction everyone's really suited the part they played and you could just imagine being there robert ? is an amazing actor and now the same being director ? father came from the same scottish island as myself so i loved the fact there was a real connection with this film the witty remarks throughout the film were great it was just brilliant so much that i bought the film as soon as it was released for ? and would recommend it to everyone to watch and the fly fishing was amazing really cried at the end it was so sad and you know what they say if you cry at a film it must have been good and this definitely was also ? to the two little boy's that played the ? of norman and paul they were just brilliant children are often left out of the ? list i think because the stars that play them all grown up are such a big profile for the whole film but these children are amazing and should be praised for what they have done don't you think the whole story was so lovely because it was true and was someone's life after all that was shared with us all\n"
     ]
    }
   ],
   "source": [
    "word_index = imdb.get_word_index()\n",
    "reverse_word_index = dict([(value, key) for (key, value) in word_index.items()])\n",
    "decoded_review = [reverse_word_index.get(i-3, '?') for i in train_data[0]]\n",
    "print(' '.join(decoded_review))"
   ]
  },
  {
   "cell_type": "markdown",
   "metadata": {},
   "source": [
    "## Vectorize the Data\n",
    "Convert the sequences of integers into one-hot encoded vectors i.e. 10K vectors with the indexes corresponding to the integer value of the words set to 1."
   ]
  },
  {
   "cell_type": "code",
   "execution_count": 5,
   "metadata": {},
   "outputs": [],
   "source": [
    "import numpy as np\n",
    "\n",
    "def vectorize_sequences(sequences, dimension=10000):\n",
    "    results = np.zeros((len(sequences), dimension))\n",
    "    for i, sequence in enumerate(sequences):\n",
    "        results[i, sequence] = 1\n",
    "    return results\n",
    "\n",
    "x_train = vectorize_sequences(train_data)\n",
    "x_test = vectorize_sequences(test_data)"
   ]
  },
  {
   "cell_type": "code",
   "execution_count": 6,
   "metadata": {},
   "outputs": [
    {
     "data": {
      "text/plain": [
       "array([0., 1., 1., ..., 0., 0., 0.])"
      ]
     },
     "execution_count": 6,
     "metadata": {},
     "output_type": "execute_result"
    }
   ],
   "source": [
    "x_train[0]"
   ]
  },
  {
   "cell_type": "code",
   "execution_count": 7,
   "metadata": {},
   "outputs": [
    {
     "name": "stdout",
     "output_type": "stream",
     "text": [
      "x_train: 2 (25000, 10000) float64\n"
     ]
    }
   ],
   "source": [
    "print(\"x_train:\", x_train.ndim, x_train.shape, x_train.dtype)"
   ]
  },
  {
   "cell_type": "code",
   "execution_count": 8,
   "metadata": {},
   "outputs": [],
   "source": [
    "y_train = np.asarray(train_labels).astype('float32')\n",
    "y_test = np.asarray(test_labels).astype('float32')"
   ]
  },
  {
   "cell_type": "code",
   "execution_count": 9,
   "metadata": {},
   "outputs": [
    {
     "name": "stdout",
     "output_type": "stream",
     "text": [
      "y_train: 1 (25000,) float32\n"
     ]
    }
   ],
   "source": [
    "print(\"y_train:\", y_train.ndim, y_train.shape, y_train.dtype)"
   ]
  },
  {
   "cell_type": "markdown",
   "metadata": {},
   "source": [
    "## Build the Model\n",
    "Without activation functions to introduce non-linearity, a dense layer would consist of linear operatons and the network would only be able to learn linear (affine) transformations"
   ]
  },
  {
   "cell_type": "code",
   "execution_count": 10,
   "metadata": {},
   "outputs": [],
   "source": [
    "from keras import models\n",
    "from keras import layers\n",
    "\n",
    "model = models.Sequential()\n",
    "model.add(layers.Dense(16, activation='relu', input_shape=(10000,)))\n",
    "model.add(layers.Dense(16, activation='relu'))\n",
    "model.add(layers.Dense(1, activation='sigmoid'))\n",
    "\n",
    "model.compile(optimizer='rmsprop',\n",
    "             loss='binary_crossentropy',\n",
    "             metrics=['accuracy'])"
   ]
  },
  {
   "cell_type": "markdown",
   "metadata": {},
   "source": [
    "#### Custom optimizer, loss, metrics\n",
    "Standard values for these functions can be passed as strings but it is also possible to pass in function objects directly:\n",
    "\n",
    "        from keras import optimizers\n",
    "        from keras import losses\n",
    "        from keras import metrics\n",
    "        \n",
    "        model.compile(optimizer=optimizers.RMSprop(lr=0.001),\n",
    "                      loss=losses.binary_crossentropy,\n",
    "                      metrics=[metrics.binary_accuracy])\n"
   ]
  },
  {
   "cell_type": "markdown",
   "metadata": {},
   "source": [
    "## Validating Your Approach\n",
    "In order to monitor the accuracy of the model during training, we create a validation set by taking 10K samples from the original data. This allows us to check the model's accuracy against data that it has not been traing on."
   ]
  },
  {
   "cell_type": "code",
   "execution_count": 11,
   "metadata": {},
   "outputs": [],
   "source": [
    "x_val = x_train[:10000]\n",
    "partial_x_train = x_train[10000:]\n",
    "\n",
    "y_val = y_train[:10000]\n",
    "partial_y_train = y_train[10000:]"
   ]
  },
  {
   "cell_type": "markdown",
   "metadata": {},
   "source": [
    "## Training Your Model\n",
    "The call to ```model.fit()``` returns a ```History``` object which contains a ```history``` member which contains data about everything that happened during training."
   ]
  },
  {
   "cell_type": "code",
   "execution_count": 12,
   "metadata": {},
   "outputs": [
    {
     "name": "stdout",
     "output_type": "stream",
     "text": [
      "Train on 15000 samples, validate on 10000 samples\n",
      "Epoch 1/20\n",
      "15000/15000 [==============================] - 2s 106us/step - loss: 0.5084 - acc: 0.7819 - val_loss: 0.3788 - val_acc: 0.8690\n",
      "Epoch 2/20\n",
      "15000/15000 [==============================] - 1s 72us/step - loss: 0.3002 - acc: 0.9047 - val_loss: 0.3000 - val_acc: 0.8901\n",
      "Epoch 3/20\n",
      "15000/15000 [==============================] - 1s 71us/step - loss: 0.2178 - acc: 0.9285 - val_loss: 0.3084 - val_acc: 0.8716\n",
      "Epoch 4/20\n",
      "15000/15000 [==============================] - 1s 71us/step - loss: 0.1750 - acc: 0.9437 - val_loss: 0.2840 - val_acc: 0.8837\n",
      "Epoch 5/20\n",
      "15000/15000 [==============================] - 1s 72us/step - loss: 0.1425 - acc: 0.9544 - val_loss: 0.2850 - val_acc: 0.8865\n",
      "Epoch 6/20\n",
      "15000/15000 [==============================] - 1s 71us/step - loss: 0.1149 - acc: 0.9651 - val_loss: 0.3169 - val_acc: 0.8779\n",
      "Epoch 7/20\n",
      "15000/15000 [==============================] - 1s 71us/step - loss: 0.0979 - acc: 0.9708 - val_loss: 0.3128 - val_acc: 0.8845\n",
      "Epoch 8/20\n",
      "15000/15000 [==============================] - 1s 71us/step - loss: 0.0806 - acc: 0.9765 - val_loss: 0.3858 - val_acc: 0.8655\n",
      "Epoch 9/20\n",
      "15000/15000 [==============================] - 1s 72us/step - loss: 0.0660 - acc: 0.9821 - val_loss: 0.3636 - val_acc: 0.8781\n",
      "Epoch 10/20\n",
      "15000/15000 [==============================] - 1s 72us/step - loss: 0.0559 - acc: 0.9853 - val_loss: 0.3844 - val_acc: 0.8791\n",
      "Epoch 11/20\n",
      "15000/15000 [==============================] - 1s 73us/step - loss: 0.0441 - acc: 0.9889 - val_loss: 0.4156 - val_acc: 0.8775\n",
      "Epoch 12/20\n",
      "15000/15000 [==============================] - 1s 73us/step - loss: 0.0382 - acc: 0.9915 - val_loss: 0.4516 - val_acc: 0.8695\n",
      "Epoch 13/20\n",
      "15000/15000 [==============================] - 1s 73us/step - loss: 0.0298 - acc: 0.9930 - val_loss: 0.4704 - val_acc: 0.8733\n",
      "Epoch 14/20\n",
      "15000/15000 [==============================] - 1s 72us/step - loss: 0.0247 - acc: 0.9944 - val_loss: 0.5039 - val_acc: 0.8715\n",
      "Epoch 15/20\n",
      "15000/15000 [==============================] - 1s 73us/step - loss: 0.0173 - acc: 0.9980 - val_loss: 0.5394 - val_acc: 0.8699\n",
      "Epoch 16/20\n",
      "15000/15000 [==============================] - 1s 73us/step - loss: 0.0167 - acc: 0.9972 - val_loss: 0.5756 - val_acc: 0.8701\n",
      "Epoch 17/20\n",
      "15000/15000 [==============================] - 1s 73us/step - loss: 0.0092 - acc: 0.9994 - val_loss: 0.6336 - val_acc: 0.8622\n",
      "Epoch 18/20\n",
      "15000/15000 [==============================] - 1s 75us/step - loss: 0.0100 - acc: 0.9985 - val_loss: 0.6428 - val_acc: 0.8668\n",
      "Epoch 19/20\n",
      "15000/15000 [==============================] - 1s 75us/step - loss: 0.0083 - acc: 0.9988 - val_loss: 0.6730 - val_acc: 0.8656\n",
      "Epoch 20/20\n",
      "15000/15000 [==============================] - 1s 74us/step - loss: 0.0089 - acc: 0.9983 - val_loss: 0.6992 - val_acc: 0.8659\n"
     ]
    }
   ],
   "source": [
    "history = model.fit(partial_x_train,\n",
    "                   partial_y_train,\n",
    "                   epochs=20,\n",
    "                   batch_size=512,\n",
    "                   validation_data=(x_val, y_val))"
   ]
  },
  {
   "cell_type": "code",
   "execution_count": 13,
   "metadata": {},
   "outputs": [
    {
     "data": {
      "text/plain": [
       "dict_keys(['val_loss', 'val_acc', 'loss', 'acc'])"
      ]
     },
     "execution_count": 13,
     "metadata": {},
     "output_type": "execute_result"
    }
   ],
   "source": [
    "history.history.keys()"
   ]
  },
  {
   "cell_type": "markdown",
   "metadata": {},
   "source": [
    "## Plotting the Trainging and Validation Loss"
   ]
  },
  {
   "cell_type": "code",
   "execution_count": 16,
   "metadata": {},
   "outputs": [
    {
     "data": {
      "image/png": "[encoded data removed]",
      "text/plain": [
       "<Figure size 432x288 with 1 Axes>"
      ]
     },
     "metadata": {},
     "output_type": "display_data"
    }
   ],
   "source": [
    "import matplotlib.pyplot as plt\n",
    "\n",
    "history_dict = history.history\n",
    "loss_values = history_dict['loss']\n",
    "val_loss_values = history_dict['val_loss']\n",
    "epochs = range(1, len(loss_values)+1)\n",
    "\n",
    "plt.plot(epochs, loss_values, 'bo', label='Training Loss')\n",
    "plt.plot(epochs, val_loss_values, 'b', label='Validation Loss')\n",
    "plt.title('Training and Validation Loss')\n",
    "plt.xlabel('Epochs')\n",
    "plt.ylabel('Loss')\n",
    "plt.legend()\n",
    "plt.show()"
   ]
  },
  {
   "cell_type": "markdown",
   "metadata": {},
   "source": [
    "## Plotting the Training and Validation Accuracy"
   ]
  },
  {
   "cell_type": "code",
   "execution_count": 17,
   "metadata": {},
   "outputs": [
    {
     "data": {
      "image/png": "[encoded data removed]",
      "text/plain": [
       "<Figure size 432x288 with 1 Axes>"
      ]
     },
     "metadata": {},
     "output_type": "display_data"
    }
   ],
   "source": [
    "plt.clf()\n",
    "\n",
    "acc_values = history_dict['acc']\n",
    "val_acc_values = history_dict['val_acc']\n",
    "epochs = range(1, len(loss_values)+1)\n",
    "\n",
    "plt.plot(epochs, acc_values, 'bo', label='Training Accuracy')\n",
    "plt.plot(epochs, val_acc_values, 'b', label='Validation Accuracy')\n",
    "plt.title('Training and Validation Accuracy')\n",
    "plt.xlabel('Epochs')\n",
    "plt.ylabel('Accuracy')\n",
    "plt.legend()\n",
    "plt.show()"
   ]
  },
  {
   "cell_type": "markdown",
   "metadata": {},
   "source": [
    "The training loss decreases as the number of epochs increases but the validation loss starts to climb again after two or three epochs. This is a good indication of over-fitting (i.e. learning the training data) and your model will produce better results if you stop training after three epochs."
   ]
  },
  {
   "cell_type": "markdown",
   "metadata": {},
   "source": [
    "## Retraining the Model from Scratch"
   ]
  },
  {
   "cell_type": "code",
   "execution_count": 18,
   "metadata": {},
   "outputs": [
    {
     "name": "stdout",
     "output_type": "stream",
     "text": [
      "Epoch 1/4\n",
      "25000/25000 [==============================] - 2s 69us/step - loss: 0.4751 - acc: 0.8216\n",
      "Epoch 2/4\n",
      "25000/25000 [==============================] - 2s 61us/step - loss: 0.2655 - acc: 0.9097\n",
      "Epoch 3/4\n",
      "25000/25000 [==============================] - 2s 62us/step - loss: 0.1983 - acc: 0.9298\n",
      "Epoch 4/4\n",
      "25000/25000 [==============================] - 2s 63us/step - loss: 0.1676 - acc: 0.9405\n",
      "25000/25000 [==============================] - 2s 72us/step\n"
     ]
    }
   ],
   "source": [
    "model = models.Sequential()\n",
    "model.add(layers.Dense(16, activation='relu', input_shape=(10000,)))\n",
    "model.add(layers.Dense(16, activation='relu'))\n",
    "model.add(layers.Dense(1, activation='sigmoid'))\n",
    "\n",
    "model.compile(optimizer='rmsprop',\n",
    "             loss='binary_crossentropy',\n",
    "             metrics=['accuracy'])\n",
    "\n",
    "model.fit(x_train, y_train, epochs=4, batch_size=512)\n",
    "results = model.evaluate(x_test, y_test)"
   ]
  },
  {
   "cell_type": "code",
   "execution_count": 19,
   "metadata": {},
   "outputs": [
    {
     "name": "stdout",
     "output_type": "stream",
     "text": [
      "[0.32138547925949096, 0.87368]\n",
      "accuracy: 87.368\n"
     ]
    }
   ],
   "source": [
    "print(results)\n",
    "print(\"accuracy:\", results[1]*100)"
   ]
  },
  {
   "cell_type": "markdown",
   "metadata": {},
   "source": [
    "## Using the Model to Generate Predictions on New Data"
   ]
  },
  {
   "cell_type": "code",
   "execution_count": 20,
   "metadata": {},
   "outputs": [
    {
     "data": {
      "text/plain": [
       "array([[0.13946252],\n",
       "       [0.99969923],\n",
       "       [0.31367597],\n",
       "       [0.6604992 ],\n",
       "       [0.92704135],\n",
       "       [0.6697483 ],\n",
       "       [0.99822325],\n",
       "       [0.00688338],\n",
       "       [0.9389492 ],\n",
       "       [0.9863129 ]], dtype=float32)"
      ]
     },
     "execution_count": 20,
     "metadata": {},
     "output_type": "execute_result"
    }
   ],
   "source": [
    "model.predict(x_test[:10])"
   ]
  },
  {
   "cell_type": "code",
   "execution_count": null,
   "metadata": {},
   "outputs": [],
   "source": []
  }
 ],
 "metadata": {
  "kernelspec": {
   "display_name": "keras36",
   "language": "python",
   "name": "keras36"
  },
  "language_info": {
   "codemirror_mode": {
    "name": "ipython",
    "version": 3
   },
   "file_extension": ".py",
   "mimetype": "text/x-python",
   "name": "python",
   "nbconvert_exporter": "python",
   "pygments_lexer": "ipython3",
   "version": "3.6.8"
  }
 },
 "nbformat": 4,
 "nbformat_minor": 2
}

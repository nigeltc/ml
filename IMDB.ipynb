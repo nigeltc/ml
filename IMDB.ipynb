{
 "cells": [
  {
   "cell_type": "markdown",
   "metadata": {},
   "source": [
    "# IMDB Binary Classification\n",
    "From Deep Learning with Python, Chapter 3\n",
    "\n",
    "The IMDB dataset is a set of 50K highly polarized film reviews from IMDB split into 25K training reviews and 25K testing reviews. The aim of this notebook is to learn how to classify film reviews as positive or negative based on the text of the reviews.\n",
    "\n",
    "The IMDB dataset has already been processed so that the text of each review is represented by a sequence of integers. Each integer is an index into a dictionary of words. In this notebook we will use a dictionary of the 10K most frequent words."
   ]
  },
  {
   "cell_type": "code",
   "execution_count": 1,
   "metadata": {},
   "outputs": [
    {
     "name": "stderr",
     "output_type": "stream",
     "text": [
      "Using TensorFlow backend.\n"
     ]
    }
   ],
   "source": [
    "from keras.datasets import imdb\n",
    "\n",
    "(train_data, train_labels), (test_data, test_labels) = imdb.load_data(num_words=10000)"
   ]
  },
  {
   "cell_type": "code",
   "execution_count": 2,
   "metadata": {},
   "outputs": [
    {
     "name": "stdout",
     "output_type": "stream",
     "text": [
      "train_data: 1 (25000,) object\n",
      "train_labels: 1 (25000,) int64\n"
     ]
    }
   ],
   "source": [
    "print(\"train_data:\", train_data.ndim, train_data.shape, train_data.dtype)\n",
    "print(\"train_labels:\", train_labels.ndim, train_labels.shape, train_labels.dtype)"
   ]
  },
  {
   "cell_type": "code",
   "execution_count": 3,
   "metadata": {},
   "outputs": [
    {
     "name": "stdout",
     "output_type": "stream",
     "text": [
      "[1, 14, 22, 16, 43, 530, 973, 1622, 1385, 65, 458, 4468, 66, 3941, 4, 173, 36, 256, 5, 25, 100, 43, 838, 112, 50, 670, 2, 9, 35, 480, 284, 5, 150, 4, 172, 112, 167, 2, 336, 385, 39, 4, 172, 4536, 1111, 17, 546, 38, 13, 447, 4, 192, 50, 16, 6, 147, 2025, 19, 14, 22, 4, 1920, 4613, 469, 4, 22, 71, 87, 12, 16, 43, 530, 38, 76, 15, 13, 1247, 4, 22, 17, 515, 17, 12, 16, 626, 18, 2, 5, 62, 386, 12, 8, 316, 8, 106, 5, 4, 2223, 5244, 16, 480, 66, 3785, 33, 4, 130, 12, 16, 38, 619, 5, 25, 124, 51, 36, 135, 48, 25, 1415, 33, 6, 22, 12, 215, 28, 77, 52, 5, 14, 407, 16, 82, 2, 8, 4, 107, 117, 5952, 15, 256, 4, 2, 7, 3766, 5, 723, 36, 71, 43, 530, 476, 26, 400, 317, 46, 7, 4, 2, 1029, 13, 104, 88, 4, 381, 15, 297, 98, 32, 2071, 56, 26, 141, 6, 194, 7486, 18, 4, 226, 22, 21, 134, 476, 26, 480, 5, 144, 30, 5535, 18, 51, 36, 28, 224, 92, 25, 104, 4, 226, 65, 16, 38, 1334, 88, 12, 16, 283, 5, 16, 4472, 113, 103, 32, 15, 16, 5345, 19, 178, 32]\n",
      "1\n"
     ]
    }
   ],
   "source": [
    "print(train_data[0])\n",
    "print(train_labels[0])"
   ]
  },
  {
   "cell_type": "markdown",
   "metadata": {},
   "source": [
    "We can easily decode the reviews back into words"
   ]
  },
  {
   "cell_type": "code",
   "execution_count": 4,
   "metadata": {},
   "outputs": [
    {
     "name": "stdout",
     "output_type": "stream",
     "text": [
      "? this film was just brilliant casting location scenery story direction everyone's really suited the part they played and you could just imagine being there robert ? is an amazing actor and now the same being director ? father came from the same scottish island as myself so i loved the fact there was a real connection with this film the witty remarks throughout the film were great it was just brilliant so much that i bought the film as soon as it was released for ? and would recommend it to everyone to watch and the fly fishing was amazing really cried at the end it was so sad and you know what they say if you cry at a film it must have been good and this definitely was also ? to the two little boy's that played the ? of norman and paul they were just brilliant children are often left out of the ? list i think because the stars that play them all grown up are such a big profile for the whole film but these children are amazing and should be praised for what they have done don't you think the whole story was so lovely because it was true and was someone's life after all that was shared with us all\n"
     ]
    }
   ],
   "source": [
    "word_index = imdb.get_word_index()\n",
    "reverse_word_index = dict([(value, key) for (key, value) in word_index.items()])\n",
    "decoded_review = [reverse_word_index.get(i-3, '?') for i in train_data[0]]\n",
    "print(' '.join(decoded_review))"
   ]
  },
  {
   "cell_type": "markdown",
   "metadata": {},
   "source": [
    "## Vectorize the Data\n",
    "Convert the sequences of integers into one-hot encoded vectors i.e. 10K vectors with the indexes corresponding to the integer value of the words set to 1."
   ]
  },
  {
   "cell_type": "code",
   "execution_count": 5,
   "metadata": {},
   "outputs": [],
   "source": [
    "import numpy as np\n",
    "\n",
    "def vectorize_sequences(sequences, dimension=10000):\n",
    "    results = np.zeros((len(sequences), dimension))\n",
    "    for i, sequence in enumerate(sequences):\n",
    "        results[i, sequence] = 1\n",
    "    return results\n",
    "\n",
    "x_train = vectorize_sequences(train_data)\n",
    "x_test = vectorize_sequences(test_data)"
   ]
  },
  {
   "cell_type": "code",
   "execution_count": 6,
   "metadata": {},
   "outputs": [
    {
     "data": {
      "text/plain": [
       "array([0., 1., 1., ..., 0., 0., 0.])"
      ]
     },
     "execution_count": 6,
     "metadata": {},
     "output_type": "execute_result"
    }
   ],
   "source": [
    "x_train[0]"
   ]
  },
  {
   "cell_type": "code",
   "execution_count": 7,
   "metadata": {},
   "outputs": [
    {
     "name": "stdout",
     "output_type": "stream",
     "text": [
      "x_train: 2 (25000, 10000) float64\n"
     ]
    }
   ],
   "source": [
    "print(\"x_train:\", x_train.ndim, x_train.shape, x_train.dtype)"
   ]
  },
  {
   "cell_type": "code",
   "execution_count": 8,
   "metadata": {},
   "outputs": [],
   "source": [
    "y_train = np.asarray(train_labels).astype('float32')\n",
    "y_test = np.asarray(test_labels).astype('float32')"
   ]
  },
  {
   "cell_type": "code",
   "execution_count": 9,
   "metadata": {},
   "outputs": [
    {
     "name": "stdout",
     "output_type": "stream",
     "text": [
      "y_train: 1 (25000,) float32\n"
     ]
    }
   ],
   "source": [
    "print(\"y_train:\", y_train.ndim, y_train.shape, y_train.dtype)"
   ]
  },
  {
   "cell_type": "markdown",
   "metadata": {},
   "source": [
    "## Build the Model\n",
    "Without activation functions to introduce non-linearity, a dense layer would consist of linear operatons and the network would only be able to learn linear (affine) transformations"
   ]
  },
  {
   "cell_type": "code",
   "execution_count": 10,
   "metadata": {},
   "outputs": [],
   "source": [
    "from keras import models\n",
    "from keras import layers\n",
    "\n",
    "model = models.Sequential()\n",
    "model.add(layers.Dense(16, activation='relu', input_shape=(10000,)))\n",
    "model.add(layers.Dense(16, activation='relu'))\n",
    "model.add(layers.Dense(1, activation='sigmoid'))\n",
    "\n",
    "model.compile(optimizer='rmsprop',\n",
    "             loss='binary_crossentropy',\n",
    "             metrics=['accuracy'])"
   ]
  },
  {
   "cell_type": "markdown",
   "metadata": {},
   "source": [
    "#### Custom optimizer, loss, metrics\n",
    "Standard values for these functions can be passed as strings but it is also possible to pass in function objects directly:\n",
    "\n",
    "        from keras import optimizers\n",
    "        from keras import losses\n",
    "        from keras import metrics\n",
    "        \n",
    "        model.compile(optimizer=optimizers.RMSprop(lr=0.001),\n",
    "                      loss=losses.binary_crossentropy,\n",
    "                      metrics=[metrics.binary_accuracy])\n"
   ]
  },
  {
   "cell_type": "markdown",
   "metadata": {},
   "source": [
    "## Validating Your Approach\n",
    "In order to monitor the accuracy of the model during training, we create a validation set by taking 10K samples from the original data. This allows us to check the model's accuracy against data that it has not been traing on."
   ]
  },
  {
   "cell_type": "code",
   "execution_count": 11,
   "metadata": {},
   "outputs": [],
   "source": [
    "x_val = x_train[:10000]\n",
    "partial_x_train = x_train[10000:]\n",
    "\n",
    "y_val = y_train[:10000]\n",
    "partial_y_train = y_train[10000:]"
   ]
  },
  {
   "cell_type": "markdown",
   "metadata": {},
   "source": [
    "## Training Your Model\n",
    "The call to ```model.fit()``` returns a ```History``` object which contains a ```history``` member which contains data about everything that happened during training."
   ]
  },
  {
   "cell_type": "code",
   "execution_count": 12,
   "metadata": {},
   "outputs": [
    {
     "name": "stdout",
     "output_type": "stream",
     "text": [
      "Train on 15000 samples, validate on 10000 samples\n",
      "Epoch 1/20\n",
      "15000/15000 [==============================] - 2s 108us/step - loss: 0.5084 - acc: 0.7813 - val_loss: 0.3797 - val_acc: 0.8685\n",
      "Epoch 2/20\n",
      "15000/15000 [==============================] - 1s 74us/step - loss: 0.3004 - acc: 0.9047 - val_loss: 0.3004 - val_acc: 0.8897\n",
      "Epoch 3/20\n",
      "15000/15000 [==============================] - 1s 74us/step - loss: 0.2179 - acc: 0.9285 - val_loss: 0.3086 - val_acc: 0.8710\n",
      "Epoch 4/20\n",
      "15000/15000 [==============================] - 1s 75us/step - loss: 0.1750 - acc: 0.9437 - val_loss: 0.2840 - val_acc: 0.8833\n",
      "Epoch 5/20\n",
      "15000/15000 [==============================] - 1s 74us/step - loss: 0.1427 - acc: 0.9542 - val_loss: 0.2841 - val_acc: 0.8873\n",
      "Epoch 6/20\n",
      "15000/15000 [==============================] - 1s 76us/step - loss: 0.1150 - acc: 0.9651 - val_loss: 0.3162 - val_acc: 0.8770\n",
      "Epoch 7/20\n",
      "15000/15000 [==============================] - 1s 75us/step - loss: 0.0980 - acc: 0.9707 - val_loss: 0.3127 - val_acc: 0.8845\n",
      "Epoch 8/20\n",
      "15000/15000 [==============================] - 1s 76us/step - loss: 0.0807 - acc: 0.9764 - val_loss: 0.3858 - val_acc: 0.8648\n",
      "Epoch 9/20\n",
      "15000/15000 [==============================] - 1s 76us/step - loss: 0.0661 - acc: 0.9821 - val_loss: 0.3635 - val_acc: 0.8780\n",
      "Epoch 10/20\n",
      "15000/15000 [==============================] - 1s 77us/step - loss: 0.0562 - acc: 0.9852 - val_loss: 0.3842 - val_acc: 0.8797\n",
      "Epoch 11/20\n",
      "15000/15000 [==============================] - 1s 76us/step - loss: 0.0437 - acc: 0.9898 - val_loss: 0.4150 - val_acc: 0.8781\n",
      "Epoch 12/20\n",
      "15000/15000 [==============================] - 1s 76us/step - loss: 0.0380 - acc: 0.9921 - val_loss: 0.4538 - val_acc: 0.8681\n",
      "Epoch 13/20\n",
      "15000/15000 [==============================] - 1s 77us/step - loss: 0.0300 - acc: 0.9927 - val_loss: 0.4700 - val_acc: 0.8727\n",
      "Epoch 14/20\n",
      "15000/15000 [==============================] - 1s 76us/step - loss: 0.0247 - acc: 0.9946 - val_loss: 0.5023 - val_acc: 0.8724\n",
      "Epoch 15/20\n",
      "15000/15000 [==============================] - 1s 79us/step - loss: 0.0180 - acc: 0.9977 - val_loss: 0.5312 - val_acc: 0.8708\n",
      "Epoch 16/20\n",
      "15000/15000 [==============================] - 1s 76us/step - loss: 0.0186 - acc: 0.9959 - val_loss: 0.5642 - val_acc: 0.8689\n",
      "Epoch 17/20\n",
      "15000/15000 [==============================] - 1s 76us/step - loss: 0.0099 - acc: 0.9995 - val_loss: 0.6426 - val_acc: 0.8603\n",
      "Epoch 18/20\n",
      "15000/15000 [==============================] - 1s 77us/step - loss: 0.0136 - acc: 0.9969 - val_loss: 0.6358 - val_acc: 0.8679\n",
      "Epoch 19/20\n",
      "15000/15000 [==============================] - 1s 76us/step - loss: 0.0057 - acc: 0.9997 - val_loss: 0.7128 - val_acc: 0.8582\n",
      "Epoch 20/20\n",
      "15000/15000 [==============================] - 1s 77us/step - loss: 0.0102 - acc: 0.9973 - val_loss: 0.6926 - val_acc: 0.8666\n"
     ]
    }
   ],
   "source": [
    "history = model.fit(partial_x_train,\n",
    "                   partial_y_train,\n",
    "                   epochs=20,\n",
    "                   batch_size=512,\n",
    "                   validation_data=(x_val, y_val))"
   ]
  },
  {
   "cell_type": "code",
   "execution_count": 13,
   "metadata": {},
   "outputs": [
    {
     "data": {
      "text/plain": [
       "dict_keys(['val_loss', 'val_acc', 'loss', 'acc'])"
      ]
     },
     "execution_count": 13,
     "metadata": {},
     "output_type": "execute_result"
    }
   ],
   "source": [
    "history.history.keys()"
   ]
  },
  {
   "cell_type": "markdown",
   "metadata": {},
   "source": [
    "## Plotting the Trainging and Validation Loss"
   ]
  },
  {
   "cell_type": "code",
   "execution_count": 14,
   "metadata": {},
   "outputs": [
    {
     "data": {
      "image/png": "[encoded data removed]",
      "text/plain": [
       "<Figure size 432x288 with 1 Axes>"
      ]
     },
     "metadata": {},
     "output_type": "display_data"
    }
   ],
   "source": [
    "import matplotlib.pyplot as plt\n",
    "\n",
    "history_dict = history.history\n",
    "loss_values = history_dict['loss']\n",
    "val_loss_values = history_dict['val_loss']\n",
    "epochs = range(1, len(loss_values)+1)\n",
    "\n",
    "plt.plot(epochs, loss_values, 'bo', label='Training Loss')\n",
    "plt.plot(epochs, val_loss_values, 'b', label='Validation Loss')\n",
    "plt.title('Training and Validation Loss')\n",
    "plt.xlabel('Epochs')\n",
    "plt.ylabel('Loss')\n",
    "plt.legend()\n",
    "plt.show()"
   ]
  },
  {
   "cell_type": "markdown",
   "metadata": {},
   "source": [
    "## Plotting the Training and Validation Accuracy"
   ]
  },
  {
   "cell_type": "code",
   "execution_count": 17,
   "metadata": {},
   "outputs": [
    {
     "data": {
      "image/png": "[encoded data removed]",
      "text/plain": [
       "<Figure size 432x288 with 1 Axes>"
      ]
     },
     "metadata": {},
     "output_type": "display_data"
    }
   ],
   "source": [
    "plt.clf()\n",
    "\n",
    "acc_values = history_dict['acc']\n",
    "val_acc_values = history_dict['val_acc']\n",
    "epochs = range(1, len(loss_values)+1)\n",
    "\n",
    "plt.plot(epochs, acc_values, 'bo', label='Training Accuracy')\n",
    "plt.plot(epochs, val_acc_values, 'b', label='Validation Accuracy')\n",
    "plt.title('Training and Validation Accuracy')\n",
    "plt.xlabel('Epochs')\n",
    "plt.ylabel('Accuracy')\n",
    "plt.legend()\n",
    "plt.show()"
   ]
  },
  {
   "cell_type": "markdown",
   "metadata": {},
   "source": [
    "The training loss decreases as the number of epochs increases but the validation loss starts to climb again after two or three epochs. This is a good indication of over-fitting (i.e. learning the training data) and your model will produce better results if you stop training after three epochs."
   ]
  },
  {
   "cell_type": "markdown",
   "metadata": {},
   "source": [
    "## Retraining the Model from Scratch"
   ]
  },
  {
   "cell_type": "code",
   "execution_count": 15,
   "metadata": {},
   "outputs": [
    {
     "name": "stdout",
     "output_type": "stream",
     "text": [
      "Epoch 1/4\n",
      "25000/25000 [==============================] - 1s 59us/step - loss: 0.4750 - acc: 0.8218\n",
      "Epoch 2/4\n",
      "25000/25000 [==============================] - 1s 54us/step - loss: 0.2650 - acc: 0.9099\n",
      "Epoch 3/4\n",
      "25000/25000 [==============================] - 1s 52us/step - loss: 0.1984 - acc: 0.9301\n",
      "Epoch 4/4\n",
      "25000/25000 [==============================] - 1s 52us/step - loss: 0.1674 - acc: 0.9408\n",
      "25000/25000 [==============================] - 2s 70us/step\n"
     ]
    }
   ],
   "source": [
    "model = models.Sequential()\n",
    "model.add(layers.Dense(16, activation='relu', input_shape=(10000,)))\n",
    "model.add(layers.Dense(16, activation='relu'))\n",
    "model.add(layers.Dense(1, activation='sigmoid'))\n",
    "\n",
    "model.compile(optimizer='rmsprop',\n",
    "             loss='binary_crossentropy',\n",
    "             metrics=['accuracy'])\n",
    "\n",
    "model.fit(x_train, y_train, epochs=4, batch_size=512)\n",
    "results = model.evaluate(x_test, y_test)"
   ]
  },
  {
   "cell_type": "code",
   "execution_count": 19,
   "metadata": {},
   "outputs": [
    {
     "name": "stdout",
     "output_type": "stream",
     "text": [
      "[0.32138547925949096, 0.87368]\n",
      "accuracy: 87.368\n"
     ]
    }
   ],
   "source": [
    "print(results)\n",
    "print(\"accuracy:\", results[1]*100)"
   ]
  },
  {
   "cell_type": "markdown",
   "metadata": {},
   "source": [
    "## Using the Model to Generate Predictions on New Data"
   ]
  },
  {
   "cell_type": "code",
   "execution_count": 16,
   "metadata": {},
   "outputs": [
    {
     "data": {
      "text/plain": [
       "array([[0.13442987],\n",
       "       [0.9996965 ],\n",
       "       [0.29503667],\n",
       "       [0.63920623],\n",
       "       [0.9206953 ],\n",
       "       [0.67086303],\n",
       "       [0.9979498 ],\n",
       "       [0.00657534],\n",
       "       [0.9350299 ],\n",
       "       [0.98411024]], dtype=float32)"
      ]
     },
     "execution_count": 16,
     "metadata": {},
     "output_type": "execute_result"
    }
   ],
   "source": [
    "model.predict(x_test[:10])"
   ]
  },
  {
   "cell_type": "markdown",
   "metadata": {},
   "source": [
    "## Further Experiments"
   ]
  },
  {
   "cell_type": "markdown",
   "metadata": {},
   "source": [
    "### 1. Try with One Hidden Layer"
   ]
  },
  {
   "cell_type": "code",
   "execution_count": 18,
   "metadata": {},
   "outputs": [
    {
     "name": "stdout",
     "output_type": "stream",
     "text": [
      "Train on 15000 samples, validate on 10000 samples\n",
      "Epoch 1/20\n",
      "15000/15000 [==============================] - 1s 87us/step - loss: 0.4905 - acc: 0.8009 - val_loss: 0.3851 - val_acc: 0.8646\n",
      "Epoch 2/20\n",
      "15000/15000 [==============================] - 1s 74us/step - loss: 0.3081 - acc: 0.9022 - val_loss: 0.3137 - val_acc: 0.8862\n",
      "Epoch 3/20\n",
      "15000/15000 [==============================] - 1s 73us/step - loss: 0.2389 - acc: 0.9247 - val_loss: 0.2914 - val_acc: 0.8889\n",
      "Epoch 4/20\n",
      "15000/15000 [==============================] - 1s 74us/step - loss: 0.1979 - acc: 0.9385 - val_loss: 0.2754 - val_acc: 0.8912\n",
      "Epoch 5/20\n",
      "15000/15000 [==============================] - 1s 75us/step - loss: 0.1680 - acc: 0.9492 - val_loss: 0.2727 - val_acc: 0.8916\n",
      "Epoch 6/20\n",
      "15000/15000 [==============================] - 1s 76us/step - loss: 0.1460 - acc: 0.9566 - val_loss: 0.2775 - val_acc: 0.8883\n",
      "Epoch 7/20\n",
      "15000/15000 [==============================] - 1s 79us/step - loss: 0.1276 - acc: 0.9626 - val_loss: 0.2803 - val_acc: 0.8877\n",
      "Epoch 8/20\n",
      "15000/15000 [==============================] - 1s 76us/step - loss: 0.1118 - acc: 0.9689 - val_loss: 0.2959 - val_acc: 0.8869\n",
      "Epoch 9/20\n",
      "15000/15000 [==============================] - 1s 80us/step - loss: 0.0980 - acc: 0.9736 - val_loss: 0.3025 - val_acc: 0.8845\n",
      "Epoch 10/20\n",
      "15000/15000 [==============================] - 1s 78us/step - loss: 0.0865 - acc: 0.9778 - val_loss: 0.3277 - val_acc: 0.8810\n",
      "Epoch 11/20\n",
      "15000/15000 [==============================] - 1s 75us/step - loss: 0.0769 - acc: 0.9803 - val_loss: 0.3232 - val_acc: 0.8814\n",
      "Epoch 12/20\n",
      "15000/15000 [==============================] - 1s 76us/step - loss: 0.0680 - acc: 0.9853 - val_loss: 0.3461 - val_acc: 0.8746\n",
      "Epoch 13/20\n",
      "15000/15000 [==============================] - 1s 75us/step - loss: 0.0597 - acc: 0.9876 - val_loss: 0.3507 - val_acc: 0.8803\n",
      "Epoch 14/20\n",
      "15000/15000 [==============================] - 1s 78us/step - loss: 0.0529 - acc: 0.9887 - val_loss: 0.3721 - val_acc: 0.8737\n",
      "Epoch 15/20\n",
      "15000/15000 [==============================] - 1s 76us/step - loss: 0.0470 - acc: 0.9906 - val_loss: 0.3847 - val_acc: 0.8780\n",
      "Epoch 16/20\n",
      "15000/15000 [==============================] - 1s 78us/step - loss: 0.0414 - acc: 0.9925 - val_loss: 0.3994 - val_acc: 0.8736\n",
      "Epoch 17/20\n",
      "15000/15000 [==============================] - 1s 82us/step - loss: 0.0363 - acc: 0.9948 - val_loss: 0.4177 - val_acc: 0.8713\n",
      "Epoch 18/20\n",
      "15000/15000 [==============================] - 1s 82us/step - loss: 0.0312 - acc: 0.9955 - val_loss: 0.4327 - val_acc: 0.8731\n",
      "Epoch 19/20\n",
      "15000/15000 [==============================] - 1s 77us/step - loss: 0.0281 - acc: 0.9966 - val_loss: 0.4614 - val_acc: 0.8732\n",
      "Epoch 20/20\n",
      "15000/15000 [==============================] - 1s 76us/step - loss: 0.0243 - acc: 0.9975 - val_loss: 0.4794 - val_acc: 0.8658\n",
      "25000/25000 [==============================] - 2s 74us/step\n"
     ]
    }
   ],
   "source": [
    "model = models.Sequential()\n",
    "model.add(layers.Dense(16, activation='relu', input_shape=(10000,)))\n",
    "model.add(layers.Dense(1, activation='sigmoid'))\n",
    "\n",
    "model.compile(optimizer='rmsprop',\n",
    "             loss='binary_crossentropy',\n",
    "             metrics=['accuracy'])\n",
    "history = model.fit(partial_x_train,\n",
    "                   partial_y_train,\n",
    "                   epochs=20,\n",
    "                   batch_size=512,\n",
    "                   validation_data=(x_val, y_val))\n",
    "results = model.evaluate(x_test, y_test)"
   ]
  },
  {
   "cell_type": "code",
   "execution_count": 20,
   "metadata": {},
   "outputs": [
    {
     "data": {
      "image/png": "[encoded data removed]",
      "text/plain": [
       "<Figure size 432x288 with 1 Axes>"
      ]
     },
     "metadata": {},
     "output_type": "display_data"
    }
   ],
   "source": [
    "history_dict = history.history\n",
    "loss_values = history_dict['loss']\n",
    "val_loss_values = history_dict['val_loss']\n",
    "epochs = range(1, len(loss_values)+1)\n",
    "\n",
    "plt.plot(epochs, loss_values, 'bo', label='Training Loss')\n",
    "plt.plot(epochs, val_loss_values, 'b', label='Validation Loss')\n",
    "plt.title('Training and Validation Loss')\n",
    "plt.xlabel('Epochs')\n",
    "plt.ylabel('Loss')\n",
    "plt.legend()\n",
    "plt.show()"
   ]
  },
  {
   "cell_type": "code",
   "execution_count": 21,
   "metadata": {},
   "outputs": [
    {
     "name": "stdout",
     "output_type": "stream",
     "text": [
      "Epoch 1/4\n",
      "25000/25000 [==============================] - 2s 61us/step - loss: 0.4398 - acc: 0.8273\n",
      "Epoch 2/4\n",
      "25000/25000 [==============================] - 1s 52us/step - loss: 0.2670 - acc: 0.9114\n",
      "Epoch 3/4\n",
      "25000/25000 [==============================] - 1s 52us/step - loss: 0.2126 - acc: 0.9264\n",
      "Epoch 4/4\n",
      "25000/25000 [==============================] - 1s 54us/step - loss: 0.1812 - acc: 0.9378\n",
      "25000/25000 [==============================] - 2s 72us/step\n"
     ]
    }
   ],
   "source": [
    "model = models.Sequential()\n",
    "model.add(layers.Dense(16, activation='relu', input_shape=(10000,)))\n",
    "model.add(layers.Dense(1, activation='sigmoid'))\n",
    "\n",
    "model.compile(optimizer='rmsprop',\n",
    "             loss='binary_crossentropy',\n",
    "             metrics=['accuracy'])\n",
    "\n",
    "model.fit(x_train, y_train, epochs=4, batch_size=512)\n",
    "results = model.evaluate(x_test, y_test)"
   ]
  },
  {
   "cell_type": "code",
   "execution_count": 22,
   "metadata": {},
   "outputs": [
    {
     "name": "stdout",
     "output_type": "stream",
     "text": [
      "[0.2935796101665497, 0.88088]\n",
      "accuracy: 88.088\n"
     ]
    }
   ],
   "source": [
    "print(results)\n",
    "print(\"accuracy:\", results[1]*100)"
   ]
  },
  {
   "cell_type": "markdown",
   "metadata": {},
   "source": [
    "### 2. Try with Three Hidden Layers"
   ]
  },
  {
   "cell_type": "code",
   "execution_count": 23,
   "metadata": {},
   "outputs": [
    {
     "name": "stdout",
     "output_type": "stream",
     "text": [
      "Train on 15000 samples, validate on 10000 samples\n",
      "Epoch 1/20\n",
      "15000/15000 [==============================] - 1s 94us/step - loss: 0.5416 - acc: 0.7644 - val_loss: 0.4366 - val_acc: 0.8124\n",
      "Epoch 2/20\n",
      "15000/15000 [==============================] - 1s 75us/step - loss: 0.3083 - acc: 0.9011 - val_loss: 0.3219 - val_acc: 0.8726\n",
      "Epoch 3/20\n",
      "15000/15000 [==============================] - 1s 75us/step - loss: 0.2225 - acc: 0.9261 - val_loss: 0.2803 - val_acc: 0.8897\n",
      "Epoch 4/20\n",
      "15000/15000 [==============================] - 1s 75us/step - loss: 0.1711 - acc: 0.9448 - val_loss: 0.2767 - val_acc: 0.8892\n",
      "Epoch 5/20\n",
      "15000/15000 [==============================] - 1s 75us/step - loss: 0.1354 - acc: 0.9574 - val_loss: 0.2925 - val_acc: 0.8875\n",
      "Epoch 6/20\n",
      "15000/15000 [==============================] - 1s 76us/step - loss: 0.1142 - acc: 0.9640 - val_loss: 0.3047 - val_acc: 0.8846\n",
      "Epoch 7/20\n",
      "15000/15000 [==============================] - 1s 79us/step - loss: 0.0922 - acc: 0.9713 - val_loss: 0.3259 - val_acc: 0.8815\n",
      "Epoch 8/20\n",
      "15000/15000 [==============================] - 1s 74us/step - loss: 0.0765 - acc: 0.9775 - val_loss: 0.3548 - val_acc: 0.8776\n",
      "Epoch 9/20\n",
      "15000/15000 [==============================] - 1s 77us/step - loss: 0.0627 - acc: 0.9828 - val_loss: 0.3801 - val_acc: 0.8781\n",
      "Epoch 10/20\n",
      "15000/15000 [==============================] - 1s 77us/step - loss: 0.0543 - acc: 0.9837 - val_loss: 0.4302 - val_acc: 0.8700\n",
      "Epoch 11/20\n",
      "15000/15000 [==============================] - 1s 77us/step - loss: 0.0397 - acc: 0.9905 - val_loss: 0.5066 - val_acc: 0.8603\n",
      "Epoch 12/20\n",
      "15000/15000 [==============================] - 1s 76us/step - loss: 0.0379 - acc: 0.9892 - val_loss: 0.4772 - val_acc: 0.8705\n",
      "Epoch 13/20\n",
      "15000/15000 [==============================] - 1s 77us/step - loss: 0.0255 - acc: 0.9945 - val_loss: 0.5044 - val_acc: 0.8716\n",
      "Epoch 14/20\n",
      "15000/15000 [==============================] - 1s 79us/step - loss: 0.0250 - acc: 0.9937 - val_loss: 0.5420 - val_acc: 0.8693\n",
      "Epoch 15/20\n",
      "15000/15000 [==============================] - 1s 77us/step - loss: 0.0120 - acc: 0.9989 - val_loss: 0.5730 - val_acc: 0.8709\n",
      "Epoch 16/20\n",
      "15000/15000 [==============================] - 1s 78us/step - loss: 0.0180 - acc: 0.9953 - val_loss: 0.6043 - val_acc: 0.8687\n",
      "Epoch 17/20\n",
      "15000/15000 [==============================] - 1s 77us/step - loss: 0.0157 - acc: 0.9954 - val_loss: 0.6453 - val_acc: 0.8675\n",
      "Epoch 18/20\n",
      "15000/15000 [==============================] - 1s 76us/step - loss: 0.0052 - acc: 0.9999 - val_loss: 0.6692 - val_acc: 0.8658\n",
      "Epoch 19/20\n",
      "15000/15000 [==============================] - 1s 77us/step - loss: 0.0117 - acc: 0.9965 - val_loss: 0.7022 - val_acc: 0.8661\n",
      "Epoch 20/20\n",
      "15000/15000 [==============================] - 1s 77us/step - loss: 0.0031 - acc: 0.9998 - val_loss: 0.7364 - val_acc: 0.8646\n",
      "25000/25000 [==============================] - 2s 75us/step\n"
     ]
    }
   ],
   "source": [
    "model = models.Sequential()\n",
    "model.add(layers.Dense(16, activation='relu', input_shape=(10000,)))\n",
    "model.add(layers.Dense(16, activation='relu'))\n",
    "model.add(layers.Dense(16, activation='relu'))\n",
    "model.add(layers.Dense(1, activation='sigmoid'))\n",
    "\n",
    "model.compile(optimizer='rmsprop',\n",
    "             loss='binary_crossentropy',\n",
    "             metrics=['accuracy'])\n",
    "history = model.fit(partial_x_train,\n",
    "                   partial_y_train,\n",
    "                   epochs=20,\n",
    "                   batch_size=512,\n",
    "                   validation_data=(x_val, y_val))\n",
    "results = model.evaluate(x_test, y_test)"
   ]
  },
  {
   "cell_type": "code",
   "execution_count": 25,
   "metadata": {},
   "outputs": [
    {
     "data": {
      "image/png": "[encoded data removed]",
      "text/plain": [
       "<Figure size 432x288 with 1 Axes>"
      ]
     },
     "metadata": {},
     "output_type": "display_data"
    }
   ],
   "source": [
    "history_dict = history.history\n",
    "loss_values = history_dict['loss']\n",
    "val_loss_values = history_dict['val_loss']\n",
    "epochs = range(1, len(loss_values)+1)\n",
    "\n",
    "plt.plot(epochs, loss_values, 'bo', label='Training Loss')\n",
    "plt.plot(epochs, val_loss_values, 'b', label='Validation Loss')\n",
    "plt.title('Training and Validation Loss')\n",
    "plt.xlabel('Epochs')\n",
    "plt.ylabel('Loss')\n",
    "plt.legend()\n",
    "plt.show()"
   ]
  },
  {
   "cell_type": "code",
   "execution_count": 26,
   "metadata": {},
   "outputs": [
    {
     "name": "stdout",
     "output_type": "stream",
     "text": [
      "Epoch 1/4\n",
      "25000/25000 [==============================] - 2s 64us/step - loss: 0.4674 - acc: 0.8167\n",
      "Epoch 2/4\n",
      "25000/25000 [==============================] - 1s 52us/step - loss: 0.2658 - acc: 0.9060\n",
      "Epoch 3/4\n",
      "25000/25000 [==============================] - 1s 52us/step - loss: 0.2032 - acc: 0.9250\n",
      "Epoch 4/4\n",
      "25000/25000 [==============================] - 1s 52us/step - loss: 0.1704 - acc: 0.9390\n",
      "25000/25000 [==============================] - 2s 73us/step\n"
     ]
    }
   ],
   "source": [
    "model = models.Sequential()\n",
    "model.add(layers.Dense(16, activation='relu', input_shape=(10000,)))\n",
    "model.add(layers.Dense(16, activation='relu'))\n",
    "model.add(layers.Dense(16, activation='relu'))\n",
    "model.add(layers.Dense(1, activation='sigmoid'))\n",
    "\n",
    "model.compile(optimizer='rmsprop',\n",
    "             loss='binary_crossentropy',\n",
    "             metrics=['accuracy'])\n",
    "\n",
    "model.fit(x_train, y_train, epochs=4, batch_size=512)\n",
    "results = model.evaluate(x_test, y_test)"
   ]
  },
  {
   "cell_type": "code",
   "execution_count": 27,
   "metadata": {},
   "outputs": [
    {
     "name": "stdout",
     "output_type": "stream",
     "text": [
      "[0.2974087928915024, 0.8826]\n",
      "accuracy: 88.26\n"
     ]
    }
   ],
   "source": [
    "print(results)\n",
    "print(\"accuracy:\", results[1]*100)"
   ]
  },
  {
   "cell_type": "markdown",
   "metadata": {},
   "source": [
    "### 3. Try with Thirty Two Hidden Units"
   ]
  },
  {
   "cell_type": "code",
   "execution_count": 30,
   "metadata": {},
   "outputs": [
    {
     "name": "stdout",
     "output_type": "stream",
     "text": [
      "Train on 15000 samples, validate on 10000 samples\n",
      "Epoch 1/20\n",
      "15000/15000 [==============================] - 2s 108us/step - loss: 0.4915 - acc: 0.7820 - val_loss: 0.3472 - val_acc: 0.8771\n",
      "Epoch 2/20\n",
      "15000/15000 [==============================] - 1s 87us/step - loss: 0.2725 - acc: 0.9065 - val_loss: 0.2840 - val_acc: 0.8920\n",
      "Epoch 3/20\n",
      "15000/15000 [==============================] - 1s 87us/step - loss: 0.1989 - acc: 0.9270 - val_loss: 0.2837 - val_acc: 0.8878\n",
      "Epoch 4/20\n",
      "15000/15000 [==============================] - 1s 88us/step - loss: 0.1590 - acc: 0.9423 - val_loss: 0.2822 - val_acc: 0.8883\n",
      "Epoch 5/20\n",
      "15000/15000 [==============================] - 1s 88us/step - loss: 0.1228 - acc: 0.9584 - val_loss: 0.3027 - val_acc: 0.8844\n",
      "Epoch 6/20\n",
      "15000/15000 [==============================] - 1s 88us/step - loss: 0.0923 - acc: 0.9716 - val_loss: 0.3171 - val_acc: 0.8867\n",
      "Epoch 7/20\n",
      "15000/15000 [==============================] - 1s 89us/step - loss: 0.0826 - acc: 0.9737 - val_loss: 0.3425 - val_acc: 0.8808\n",
      "Epoch 8/20\n",
      "15000/15000 [==============================] - 1s 89us/step - loss: 0.0566 - acc: 0.9836 - val_loss: 0.3757 - val_acc: 0.8798\n",
      "Epoch 9/20\n",
      "15000/15000 [==============================] - 1s 92us/step - loss: 0.0458 - acc: 0.9873 - val_loss: 0.4079 - val_acc: 0.8784\n",
      "Epoch 10/20\n",
      "15000/15000 [==============================] - 1s 90us/step - loss: 0.0395 - acc: 0.9889 - val_loss: 0.4375 - val_acc: 0.8777\n",
      "Epoch 11/20\n",
      "15000/15000 [==============================] - 1s 89us/step - loss: 0.0352 - acc: 0.9901 - val_loss: 0.4681 - val_acc: 0.8754\n",
      "Epoch 12/20\n",
      "15000/15000 [==============================] - 1s 91us/step - loss: 0.0137 - acc: 0.9985 - val_loss: 0.5198 - val_acc: 0.8682\n",
      "Epoch 13/20\n",
      "15000/15000 [==============================] - 1s 91us/step - loss: 0.0196 - acc: 0.9952 - val_loss: 0.5410 - val_acc: 0.8714\n",
      "Epoch 14/20\n",
      "15000/15000 [==============================] - 1s 95us/step - loss: 0.0225 - acc: 0.9937 - val_loss: 0.5729 - val_acc: 0.8723\n",
      "Epoch 15/20\n",
      "15000/15000 [==============================] - 1s 95us/step - loss: 0.0048 - acc: 0.9997 - val_loss: 0.6054 - val_acc: 0.8717\n",
      "Epoch 16/20\n",
      "15000/15000 [==============================] - 1s 89us/step - loss: 0.0220 - acc: 0.9939 - val_loss: 0.6412 - val_acc: 0.8721\n",
      "Epoch 17/20\n",
      "15000/15000 [==============================] - 1s 91us/step - loss: 0.0026 - acc: 0.9999 - val_loss: 0.6619 - val_acc: 0.8693\n",
      "Epoch 18/20\n",
      "15000/15000 [==============================] - 1s 91us/step - loss: 0.0019 - acc: 0.9999 - val_loss: 0.7047 - val_acc: 0.8689\n",
      "Epoch 19/20\n",
      "15000/15000 [==============================] - 1s 90us/step - loss: 0.0119 - acc: 0.9969 - val_loss: 0.7308 - val_acc: 0.8694\n",
      "Epoch 20/20\n",
      "15000/15000 [==============================] - 1s 90us/step - loss: 9.9066e-04 - acc: 1.0000 - val_loss: 0.7573 - val_acc: 0.8691\n",
      "25000/25000 [==============================] - 2s 90us/step\n"
     ]
    }
   ],
   "source": [
    "model = models.Sequential()\n",
    "model.add(layers.Dense(32, activation='relu', input_shape=(10000,)))\n",
    "model.add(layers.Dense(32, activation='relu'))\n",
    "model.add(layers.Dense(1, activation='sigmoid'))\n",
    "\n",
    "model.compile(optimizer='rmsprop',\n",
    "             loss='binary_crossentropy',\n",
    "             metrics=['accuracy'])\n",
    "history = model.fit(partial_x_train,\n",
    "                   partial_y_train,\n",
    "                   epochs=20,\n",
    "                   batch_size=512,\n",
    "                   validation_data=(x_val, y_val))\n",
    "results = model.evaluate(x_test, y_test)"
   ]
  },
  {
   "cell_type": "code",
   "execution_count": 31,
   "metadata": {},
   "outputs": [
    {
     "data": {
      "image/png": "[encoded data removed]",
      "text/plain": [
       "<Figure size 432x288 with 1 Axes>"
      ]
     },
     "metadata": {},
     "output_type": "display_data"
    }
   ],
   "source": [
    "history_dict = history.history\n",
    "loss_values = history_dict['loss']\n",
    "val_loss_values = history_dict['val_loss']\n",
    "epochs = range(1, len(loss_values)+1)\n",
    "\n",
    "plt.plot(epochs, loss_values, 'bo', label='Training Loss')\n",
    "plt.plot(epochs, val_loss_values, 'b', label='Validation Loss')\n",
    "plt.title('Training and Validation Loss')\n",
    "plt.xlabel('Epochs')\n",
    "plt.ylabel('Loss')\n",
    "plt.legend()\n",
    "plt.show()"
   ]
  },
  {
   "cell_type": "code",
   "execution_count": 32,
   "metadata": {},
   "outputs": [
    {
     "name": "stdout",
     "output_type": "stream",
     "text": [
      "Epoch 1/4\n",
      "25000/25000 [==============================] - 2s 75us/step - loss: 0.4303 - acc: 0.8153\n",
      "Epoch 2/4\n",
      "25000/25000 [==============================] - 2s 62us/step - loss: 0.2398 - acc: 0.9112\n",
      "Epoch 3/4\n",
      "25000/25000 [==============================] - 2s 62us/step - loss: 0.1892 - acc: 0.9298\n",
      "Epoch 4/4\n",
      "25000/25000 [==============================] - 2s 63us/step - loss: 0.1580 - acc: 0.9436\n",
      "25000/25000 [==============================] - 2s 90us/step\n"
     ]
    }
   ],
   "source": [
    "model = models.Sequential()\n",
    "model.add(layers.Dense(32, activation='relu', input_shape=(10000,)))\n",
    "model.add(layers.Dense(32, activation='relu'))\n",
    "model.add(layers.Dense(1, activation='sigmoid'))\n",
    "\n",
    "model.compile(optimizer='rmsprop',\n",
    "             loss='binary_crossentropy',\n",
    "             metrics=['accuracy'])\n",
    "\n",
    "model.fit(x_train, y_train, epochs=4, batch_size=512)\n",
    "results = model.evaluate(x_test, y_test)"
   ]
  },
  {
   "cell_type": "code",
   "execution_count": 27,
   "metadata": {},
   "outputs": [
    {
     "name": "stdout",
     "output_type": "stream",
     "text": [
      "[0.2974087928915024, 0.8826]\n",
      "accuracy: 88.26\n"
     ]
    }
   ],
   "source": [
    "print(results)\n",
    "print(\"accuracy:\", results[1]*100)"
   ]
  },
  {
   "cell_type": "markdown",
   "metadata": {},
   "source": [
    "### 4. Try with 64 Hidden Units"
   ]
  },
  {
   "cell_type": "code",
   "execution_count": 33,
   "metadata": {},
   "outputs": [
    {
     "name": "stdout",
     "output_type": "stream",
     "text": [
      "Train on 15000 samples, validate on 10000 samples\n",
      "Epoch 1/20\n",
      "15000/15000 [==============================] - 2s 142us/step - loss: 0.4800 - acc: 0.7855 - val_loss: 0.3660 - val_acc: 0.8523\n",
      "Epoch 2/20\n",
      "15000/15000 [==============================] - 2s 124us/step - loss: 0.2632 - acc: 0.9015 - val_loss: 0.3086 - val_acc: 0.8759\n",
      "Epoch 3/20\n",
      "15000/15000 [==============================] - 2s 121us/step - loss: 0.1797 - acc: 0.9364 - val_loss: 0.2803 - val_acc: 0.8875\n",
      "Epoch 4/20\n",
      "15000/15000 [==============================] - 2s 122us/step - loss: 0.1446 - acc: 0.9455 - val_loss: 0.4262 - val_acc: 0.8430\n",
      "Epoch 5/20\n",
      "15000/15000 [==============================] - 2s 117us/step - loss: 0.1078 - acc: 0.9619 - val_loss: 0.3400 - val_acc: 0.8802\n",
      "Epoch 6/20\n",
      "15000/15000 [==============================] - 2s 120us/step - loss: 0.0779 - acc: 0.9747 - val_loss: 0.3619 - val_acc: 0.8799\n",
      "Epoch 7/20\n",
      "15000/15000 [==============================] - 2s 119us/step - loss: 0.0631 - acc: 0.9803 - val_loss: 0.3865 - val_acc: 0.8799\n",
      "Epoch 8/20\n",
      "15000/15000 [==============================] - 2s 118us/step - loss: 0.0513 - acc: 0.9844 - val_loss: 0.4196 - val_acc: 0.8804\n",
      "Epoch 9/20\n",
      "15000/15000 [==============================] - 2s 123us/step - loss: 0.0431 - acc: 0.9869 - val_loss: 0.4458 - val_acc: 0.8770\n",
      "Epoch 10/20\n",
      "15000/15000 [==============================] - 2s 118us/step - loss: 0.0247 - acc: 0.9931 - val_loss: 0.5836 - val_acc: 0.8609\n",
      "Epoch 11/20\n",
      "15000/15000 [==============================] - 2s 119us/step - loss: 0.0087 - acc: 0.9993 - val_loss: 0.5344 - val_acc: 0.8725\n",
      "Epoch 12/20\n",
      "15000/15000 [==============================] - 2s 120us/step - loss: 0.0378 - acc: 0.9895 - val_loss: 0.5618 - val_acc: 0.8725\n",
      "Epoch 13/20\n",
      "15000/15000 [==============================] - 2s 124us/step - loss: 0.0031 - acc: 0.9999 - val_loss: 0.6025 - val_acc: 0.8717\n",
      "Epoch 14/20\n",
      "15000/15000 [==============================] - 2s 122us/step - loss: 0.0020 - acc: 0.9999 - val_loss: 0.6604 - val_acc: 0.8727\n",
      "Epoch 15/20\n",
      "15000/15000 [==============================] - 2s 125us/step - loss: 0.0328 - acc: 0.9910 - val_loss: 0.6952 - val_acc: 0.8735\n",
      "Epoch 16/20\n",
      "15000/15000 [==============================] - 2s 119us/step - loss: 8.7675e-04 - acc: 1.0000 - val_loss: 0.7185 - val_acc: 0.8725\n",
      "Epoch 17/20\n",
      "15000/15000 [==============================] - 2s 118us/step - loss: 5.9657e-04 - acc: 1.0000 - val_loss: 0.7586 - val_acc: 0.8713\n",
      "Epoch 18/20\n",
      "15000/15000 [==============================] - 2s 118us/step - loss: 0.0315 - acc: 0.9926 - val_loss: 0.8148 - val_acc: 0.8698\n",
      "Epoch 19/20\n",
      "15000/15000 [==============================] - 2s 118us/step - loss: 2.9753e-04 - acc: 1.0000 - val_loss: 0.8170 - val_acc: 0.8693\n",
      "Epoch 20/20\n",
      "15000/15000 [==============================] - 2s 119us/step - loss: 1.9522e-04 - acc: 1.0000 - val_loss: 0.8422 - val_acc: 0.8685\n",
      "25000/25000 [==============================] - 3s 113us/step\n"
     ]
    }
   ],
   "source": [
    "model = models.Sequential()\n",
    "model.add(layers.Dense(64, activation='relu', input_shape=(10000,)))\n",
    "model.add(layers.Dense(64, activation='relu'))\n",
    "model.add(layers.Dense(1, activation='sigmoid'))\n",
    "\n",
    "model.compile(optimizer='rmsprop',\n",
    "             loss='binary_crossentropy',\n",
    "             metrics=['accuracy'])\n",
    "history = model.fit(partial_x_train,\n",
    "                   partial_y_train,\n",
    "                   epochs=20,\n",
    "                   batch_size=512,\n",
    "                   validation_data=(x_val, y_val))\n",
    "results = model.evaluate(x_test, y_test)"
   ]
  },
  {
   "cell_type": "code",
   "execution_count": 34,
   "metadata": {},
   "outputs": [
    {
     "data": {
      "image/png": "[encoded data removed]",
      "text/plain": [
       "<Figure size 432x288 with 1 Axes>"
      ]
     },
     "metadata": {},
     "output_type": "display_data"
    }
   ],
   "source": [
    "history_dict = history.history\n",
    "loss_values = history_dict['loss']\n",
    "val_loss_values = history_dict['val_loss']\n",
    "epochs = range(1, len(loss_values)+1)\n",
    "\n",
    "plt.plot(epochs, loss_values, 'bo', label='Training Loss')\n",
    "plt.plot(epochs, val_loss_values, 'b', label='Validation Loss')\n",
    "plt.title('Training and Validation Loss')\n",
    "plt.xlabel('Epochs')\n",
    "plt.ylabel('Loss')\n",
    "plt.legend()\n",
    "plt.show()"
   ]
  },
  {
   "cell_type": "code",
   "execution_count": 35,
   "metadata": {},
   "outputs": [
    {
     "name": "stdout",
     "output_type": "stream",
     "text": [
      "Epoch 1/4\n",
      "25000/25000 [==============================] - 3s 101us/step - loss: 0.4254 - acc: 0.8084\n",
      "Epoch 2/4\n",
      "25000/25000 [==============================] - 2s 87us/step - loss: 0.2366 - acc: 0.9118\n",
      "Epoch 3/4\n",
      "25000/25000 [==============================] - 2s 86us/step - loss: 0.1847 - acc: 0.9294\n",
      "Epoch 4/4\n",
      "25000/25000 [==============================] - 2s 86us/step - loss: 0.1448 - acc: 0.9451\n",
      "25000/25000 [==============================] - 3s 115us/step\n"
     ]
    }
   ],
   "source": [
    "model = models.Sequential()\n",
    "model.add(layers.Dense(64, activation='relu', input_shape=(10000,)))\n",
    "model.add(layers.Dense(64, activation='relu'))\n",
    "model.add(layers.Dense(1, activation='sigmoid'))\n",
    "\n",
    "model.compile(optimizer='rmsprop',\n",
    "             loss='binary_crossentropy',\n",
    "             metrics=['accuracy'])\n",
    "\n",
    "model.fit(x_train, y_train, epochs=4, batch_size=512)\n",
    "results = model.evaluate(x_test, y_test)"
   ]
  },
  {
   "cell_type": "code",
   "execution_count": 36,
   "metadata": {},
   "outputs": [
    {
     "name": "stdout",
     "output_type": "stream",
     "text": [
      "[0.39841344346523283, 0.8532]\n",
      "accuracy: 85.32\n"
     ]
    }
   ],
   "source": [
    "print(results)\n",
    "print(\"accuracy:\", results[1]*100)"
   ]
  },
  {
   "cell_type": "markdown",
   "metadata": {},
   "source": [
    "### 5. Try with mse loss function"
   ]
  },
  {
   "cell_type": "code",
   "execution_count": 37,
   "metadata": {},
   "outputs": [
    {
     "name": "stdout",
     "output_type": "stream",
     "text": [
      "Train on 15000 samples, validate on 10000 samples\n",
      "Epoch 1/20\n",
      "15000/15000 [==============================] - 1s 98us/step - loss: 0.1669 - acc: 0.7843 - val_loss: 0.1280 - val_acc: 0.8414\n",
      "Epoch 2/20\n",
      "15000/15000 [==============================] - 1s 74us/step - loss: 0.0886 - acc: 0.9065 - val_loss: 0.0917 - val_acc: 0.8863\n",
      "Epoch 3/20\n",
      "15000/15000 [==============================] - 1s 74us/step - loss: 0.0632 - acc: 0.9317 - val_loss: 0.0845 - val_acc: 0.8883\n",
      "Epoch 4/20\n",
      "15000/15000 [==============================] - 1s 75us/step - loss: 0.0487 - acc: 0.9471 - val_loss: 0.0926 - val_acc: 0.8750\n",
      "Epoch 5/20\n",
      "15000/15000 [==============================] - 1s 77us/step - loss: 0.0394 - acc: 0.9605 - val_loss: 0.0834 - val_acc: 0.8849\n",
      "Epoch 6/20\n",
      "15000/15000 [==============================] - 1s 78us/step - loss: 0.0324 - acc: 0.9668 - val_loss: 0.0848 - val_acc: 0.8842\n",
      "Epoch 7/20\n",
      "15000/15000 [==============================] - 1s 75us/step - loss: 0.0261 - acc: 0.9751 - val_loss: 0.0877 - val_acc: 0.8831\n",
      "Epoch 8/20\n",
      "15000/15000 [==============================] - 1s 79us/step - loss: 0.0217 - acc: 0.9811 - val_loss: 0.0893 - val_acc: 0.8795\n",
      "Epoch 9/20\n",
      "15000/15000 [==============================] - 1s 75us/step - loss: 0.0177 - acc: 0.9849 - val_loss: 0.0911 - val_acc: 0.8812\n",
      "Epoch 10/20\n",
      "15000/15000 [==============================] - 1s 74us/step - loss: 0.0148 - acc: 0.9882 - val_loss: 0.0933 - val_acc: 0.8779\n",
      "Epoch 11/20\n",
      "15000/15000 [==============================] - 1s 75us/step - loss: 0.0127 - acc: 0.9897 - val_loss: 0.0954 - val_acc: 0.8756\n",
      "Epoch 12/20\n",
      "15000/15000 [==============================] - 1s 75us/step - loss: 0.0109 - acc: 0.9906 - val_loss: 0.0972 - val_acc: 0.8743\n",
      "Epoch 13/20\n",
      "15000/15000 [==============================] - 1s 76us/step - loss: 0.0079 - acc: 0.9941 - val_loss: 0.0989 - val_acc: 0.8729\n",
      "Epoch 14/20\n",
      "15000/15000 [==============================] - 1s 76us/step - loss: 0.0072 - acc: 0.9945 - val_loss: 0.1015 - val_acc: 0.8713\n",
      "Epoch 15/20\n",
      "15000/15000 [==============================] - 1s 77us/step - loss: 0.0051 - acc: 0.9964 - val_loss: 0.1150 - val_acc: 0.8573\n",
      "Epoch 16/20\n",
      "15000/15000 [==============================] - 1s 77us/step - loss: 0.0046 - acc: 0.9965 - val_loss: 0.1044 - val_acc: 0.8699\n",
      "Epoch 17/20\n",
      "15000/15000 [==============================] - 1s 81us/step - loss: 0.0049 - acc: 0.9961 - val_loss: 0.1083 - val_acc: 0.8622\n",
      "Epoch 18/20\n",
      "15000/15000 [==============================] - 1s 78us/step - loss: 0.0044 - acc: 0.9964 - val_loss: 0.1080 - val_acc: 0.8663\n",
      "Epoch 19/20\n",
      "15000/15000 [==============================] - 1s 77us/step - loss: 0.0030 - acc: 0.9975 - val_loss: 0.1090 - val_acc: 0.8663\n",
      "Epoch 20/20\n",
      "15000/15000 [==============================] - 1s 78us/step - loss: 0.0046 - acc: 0.9955 - val_loss: 0.1096 - val_acc: 0.8664\n",
      "25000/25000 [==============================] - 2s 76us/step\n"
     ]
    }
   ],
   "source": [
    "model = models.Sequential()\n",
    "model.add(layers.Dense(16, activation='relu', input_shape=(10000,)))\n",
    "model.add(layers.Dense(16, activation='relu'))\n",
    "model.add(layers.Dense(1, activation='sigmoid'))\n",
    "\n",
    "model.compile(optimizer='rmsprop',\n",
    "             loss='mse',\n",
    "             metrics=['accuracy'])\n",
    "history = model.fit(partial_x_train,\n",
    "                   partial_y_train,\n",
    "                   epochs=20,\n",
    "                   batch_size=512,\n",
    "                   validation_data=(x_val, y_val))\n",
    "results = model.evaluate(x_test, y_test)"
   ]
  },
  {
   "cell_type": "code",
   "execution_count": 38,
   "metadata": {},
   "outputs": [
    {
     "data": {
      "image/png": "[encoded data removed]",
      "text/plain": [
       "<Figure size 432x288 with 1 Axes>"
      ]
     },
     "metadata": {},
     "output_type": "display_data"
    }
   ],
   "source": [
    "history_dict = history.history\n",
    "loss_values = history_dict['loss']\n",
    "val_loss_values = history_dict['val_loss']\n",
    "epochs = range(1, len(loss_values)+1)\n",
    "\n",
    "plt.plot(epochs, loss_values, 'bo', label='Training Loss')\n",
    "plt.plot(epochs, val_loss_values, 'b', label='Validation Loss')\n",
    "plt.title('Training and Validation Loss')\n",
    "plt.xlabel('Epochs')\n",
    "plt.ylabel('Loss')\n",
    "plt.legend()\n",
    "plt.show()"
   ]
  },
  {
   "cell_type": "code",
   "execution_count": 40,
   "metadata": {},
   "outputs": [
    {
     "name": "stdout",
     "output_type": "stream",
     "text": [
      "Epoch 1/4\n",
      "25000/25000 [==============================] - 2s 74us/step - loss: 0.1541 - acc: 0.8102\n",
      "Epoch 2/4\n",
      "25000/25000 [==============================] - 1s 52us/step - loss: 0.0790 - acc: 0.9100\n",
      "Epoch 3/4\n",
      "25000/25000 [==============================] - 1s 54us/step - loss: 0.0589 - acc: 0.9304\n",
      "Epoch 4/4\n",
      "25000/25000 [==============================] - 1s 52us/step - loss: 0.0486 - acc: 0.9428\n",
      "25000/25000 [==============================] - 2s 77us/step\n"
     ]
    }
   ],
   "source": [
    "model = models.Sequential()\n",
    "model.add(layers.Dense(16, activation='relu', input_shape=(10000,)))\n",
    "model.add(layers.Dense(16, activation='relu'))\n",
    "model.add(layers.Dense(1, activation='sigmoid'))\n",
    "\n",
    "model.compile(optimizer='rmsprop',\n",
    "             loss='mse',\n",
    "             metrics=['accuracy'])\n",
    "\n",
    "model.fit(x_train, y_train, epochs=4, batch_size=512)\n",
    "results = model.evaluate(x_test, y_test)"
   ]
  },
  {
   "cell_type": "code",
   "execution_count": 41,
   "metadata": {},
   "outputs": [
    {
     "name": "stdout",
     "output_type": "stream",
     "text": [
      "[0.08691485000133514, 0.88136]\n",
      "accuracy: 88.13600000000001\n"
     ]
    }
   ],
   "source": [
    "print(results)\n",
    "print(\"accuracy:\", results[1]*100)"
   ]
  },
  {
   "cell_type": "markdown",
   "metadata": {},
   "source": [
    "### 6. Try with tanh activation function"
   ]
  },
  {
   "cell_type": "code",
   "execution_count": 42,
   "metadata": {},
   "outputs": [
    {
     "name": "stdout",
     "output_type": "stream",
     "text": [
      "Train on 15000 samples, validate on 10000 samples\n",
      "Epoch 1/20\n",
      "15000/15000 [==============================] - 2s 105us/step - loss: 0.4802 - acc: 0.7903 - val_loss: 0.3473 - val_acc: 0.8773\n",
      "Epoch 2/20\n",
      "15000/15000 [==============================] - 1s 79us/step - loss: 0.2706 - acc: 0.9081 - val_loss: 0.3117 - val_acc: 0.8676\n",
      "Epoch 3/20\n",
      "15000/15000 [==============================] - 1s 76us/step - loss: 0.1908 - acc: 0.9334 - val_loss: 0.2711 - val_acc: 0.8886\n",
      "Epoch 4/20\n",
      "15000/15000 [==============================] - 1s 77us/step - loss: 0.1480 - acc: 0.9496 - val_loss: 0.2820 - val_acc: 0.8870\n",
      "Epoch 5/20\n",
      "15000/15000 [==============================] - 1s 77us/step - loss: 0.1091 - acc: 0.9649 - val_loss: 0.3245 - val_acc: 0.8781\n",
      "Epoch 6/20\n",
      "15000/15000 [==============================] - 1s 76us/step - loss: 0.0915 - acc: 0.9695 - val_loss: 0.3417 - val_acc: 0.8795\n",
      "Epoch 7/20\n",
      "15000/15000 [==============================] - 1s 77us/step - loss: 0.0682 - acc: 0.9785 - val_loss: 0.4306 - val_acc: 0.8684\n",
      "Epoch 8/20\n",
      "15000/15000 [==============================] - 1s 76us/step - loss: 0.0550 - acc: 0.9829 - val_loss: 0.4169 - val_acc: 0.8745\n",
      "Epoch 9/20\n",
      "15000/15000 [==============================] - 1s 77us/step - loss: 0.0421 - acc: 0.9879 - val_loss: 0.4911 - val_acc: 0.8626\n",
      "Epoch 10/20\n",
      "15000/15000 [==============================] - 1s 77us/step - loss: 0.0382 - acc: 0.9879 - val_loss: 0.4984 - val_acc: 0.8717\n",
      "Epoch 11/20\n",
      "15000/15000 [==============================] - 1s 78us/step - loss: 0.0303 - acc: 0.9907 - val_loss: 0.5314 - val_acc: 0.8712\n",
      "Epoch 12/20\n",
      "15000/15000 [==============================] - 1s 79us/step - loss: 0.0120 - acc: 0.9986 - val_loss: 0.6354 - val_acc: 0.8603\n",
      "Epoch 13/20\n",
      "15000/15000 [==============================] - 1s 79us/step - loss: 0.0264 - acc: 0.9925 - val_loss: 0.6110 - val_acc: 0.8683\n",
      "Epoch 14/20\n",
      "15000/15000 [==============================] - 1s 83us/step - loss: 0.0055 - acc: 0.9994 - val_loss: 0.6466 - val_acc: 0.8662\n",
      "Epoch 15/20\n",
      "15000/15000 [==============================] - 1s 78us/step - loss: 0.0206 - acc: 0.9939 - val_loss: 0.6765 - val_acc: 0.8657\n",
      "Epoch 16/20\n",
      "15000/15000 [==============================] - 1s 77us/step - loss: 0.0027 - acc: 0.9998 - val_loss: 0.7070 - val_acc: 0.8635\n",
      "Epoch 17/20\n",
      "15000/15000 [==============================] - 1s 77us/step - loss: 0.0101 - acc: 0.9974 - val_loss: 0.8407 - val_acc: 0.8484\n",
      "Epoch 18/20\n",
      "15000/15000 [==============================] - 1s 78us/step - loss: 0.0022 - acc: 0.9998 - val_loss: 0.7730 - val_acc: 0.8610\n",
      "Epoch 19/20\n",
      "15000/15000 [==============================] - 1s 78us/step - loss: 0.0012 - acc: 0.9999 - val_loss: 0.8766 - val_acc: 0.8494\n",
      "Epoch 20/20\n",
      "15000/15000 [==============================] - 1s 79us/step - loss: 0.0106 - acc: 0.9968 - val_loss: 0.8117 - val_acc: 0.8629\n",
      "25000/25000 [==============================] - 2s 77us/step\n"
     ]
    }
   ],
   "source": [
    "model = models.Sequential()\n",
    "model.add(layers.Dense(16, activation='tanh', input_shape=(10000,)))\n",
    "model.add(layers.Dense(16, activation='tanh'))\n",
    "model.add(layers.Dense(1, activation='sigmoid'))\n",
    "\n",
    "model.compile(optimizer='rmsprop',\n",
    "             loss='binary_crossentropy',\n",
    "             metrics=['accuracy'])\n",
    "history = model.fit(partial_x_train,\n",
    "                   partial_y_train,\n",
    "                   epochs=20,\n",
    "                   batch_size=512,\n",
    "                   validation_data=(x_val, y_val))\n",
    "results = model.evaluate(x_test, y_test)"
   ]
  },
  {
   "cell_type": "code",
   "execution_count": 43,
   "metadata": {},
   "outputs": [
    {
     "data": {
      "image/png": "[encoded data removed]",
      "text/plain": [
       "<Figure size 432x288 with 1 Axes>"
      ]
     },
     "metadata": {},
     "output_type": "display_data"
    }
   ],
   "source": [
    "history_dict = history.history\n",
    "loss_values = history_dict['loss']\n",
    "val_loss_values = history_dict['val_loss']\n",
    "epochs = range(1, len(loss_values)+1)\n",
    "\n",
    "plt.plot(epochs, loss_values, 'bo', label='Training Loss')\n",
    "plt.plot(epochs, val_loss_values, 'b', label='Validation Loss')\n",
    "plt.title('Training and Validation Loss')\n",
    "plt.xlabel('Epochs')\n",
    "plt.ylabel('Loss')\n",
    "plt.legend()\n",
    "plt.show()"
   ]
  },
  {
   "cell_type": "code",
   "execution_count": 44,
   "metadata": {},
   "outputs": [
    {
     "name": "stdout",
     "output_type": "stream",
     "text": [
      "Epoch 1/4\n",
      "25000/25000 [==============================] - 2s 70us/step - loss: 0.4149 - acc: 0.8317\n",
      "Epoch 2/4\n",
      "25000/25000 [==============================] - 1s 53us/step - loss: 0.2318 - acc: 0.9144\n",
      "Epoch 3/4\n",
      "25000/25000 [==============================] - 1s 56us/step - loss: 0.1796 - acc: 0.9336\n",
      "Epoch 4/4\n",
      "25000/25000 [==============================] - 1s 53us/step - loss: 0.1497 - acc: 0.9466\n",
      "25000/25000 [==============================] - 2s 80us/step\n"
     ]
    }
   ],
   "source": [
    "model = models.Sequential()\n",
    "model.add(layers.Dense(16, activation='tanh', input_shape=(10000,)))\n",
    "model.add(layers.Dense(16, activation='tanh'))\n",
    "model.add(layers.Dense(1, activation='sigmoid'))\n",
    "\n",
    "model.compile(optimizer='rmsprop',\n",
    "             loss='binary_crossentropy',\n",
    "             metrics=['accuracy'])\n",
    "\n",
    "model.fit(x_train, y_train, epochs=4, batch_size=512)\n",
    "results = model.evaluate(x_test, y_test)"
   ]
  },
  {
   "cell_type": "code",
   "execution_count": 45,
   "metadata": {},
   "outputs": [
    {
     "name": "stdout",
     "output_type": "stream",
     "text": [
      "[0.36393247930526734, 0.86448]\n",
      "accuracy: 86.44800000000001\n"
     ]
    }
   ],
   "source": [
    "print(results)\n",
    "print(\"accuracy:\", results[1]*100)"
   ]
  },
  {
   "cell_type": "markdown",
   "metadata": {},
   "source": [
    "### Results\n",
    "\n",
    "0. Standard model - 87.37%\n",
    "1. One hidden layer - 88.09%\n",
    "2. Three hidden layers - 88.26%\n",
    "3. 32 hidden units - 88.26%\n",
    "4. 64 hidden units - 85.32%\n",
    "5. mse loss function - 88.14%\n",
    "6. tanh activation function - 86.45%"
   ]
  },
  {
   "cell_type": "markdown",
   "metadata": {},
   "source": [
    "### Final Experiment\n",
    "Three hidden layers with 32 hidden units using the mse loss function."
   ]
  },
  {
   "cell_type": "code",
   "execution_count": 46,
   "metadata": {},
   "outputs": [
    {
     "name": "stdout",
     "output_type": "stream",
     "text": [
      "Train on 15000 samples, validate on 10000 samples\n",
      "Epoch 1/20\n",
      "15000/15000 [==============================] - 2s 117us/step - loss: 0.1707 - acc: 0.7699 - val_loss: 0.1152 - val_acc: 0.8615\n",
      "Epoch 2/20\n",
      "15000/15000 [==============================] - 1s 86us/step - loss: 0.0829 - acc: 0.9029 - val_loss: 0.1204 - val_acc: 0.8350\n",
      "Epoch 3/20\n",
      "15000/15000 [==============================] - 1s 86us/step - loss: 0.0593 - acc: 0.9274 - val_loss: 0.0821 - val_acc: 0.8895\n",
      "Epoch 4/20\n",
      "15000/15000 [==============================] - 1s 87us/step - loss: 0.0428 - acc: 0.9479 - val_loss: 0.0843 - val_acc: 0.8844\n",
      "Epoch 5/20\n",
      "15000/15000 [==============================] - 1s 90us/step - loss: 0.0323 - acc: 0.9630 - val_loss: 0.0879 - val_acc: 0.8822\n",
      "Epoch 6/20\n",
      "15000/15000 [==============================] - 1s 87us/step - loss: 0.0285 - acc: 0.9671 - val_loss: 0.0887 - val_acc: 0.8810\n",
      "Epoch 7/20\n",
      "15000/15000 [==============================] - 1s 88us/step - loss: 0.0196 - acc: 0.9789 - val_loss: 0.1022 - val_acc: 0.8685\n",
      "Epoch 8/20\n",
      "15000/15000 [==============================] - 1s 88us/step - loss: 0.0170 - acc: 0.9810 - val_loss: 0.0949 - val_acc: 0.8773\n",
      "Epoch 9/20\n",
      "15000/15000 [==============================] - 1s 88us/step - loss: 0.0150 - acc: 0.9832 - val_loss: 0.0963 - val_acc: 0.8768\n",
      "Epoch 10/20\n",
      "15000/15000 [==============================] - 1s 88us/step - loss: 0.0062 - acc: 0.9946 - val_loss: 0.1003 - val_acc: 0.8761\n",
      "Epoch 11/20\n",
      "15000/15000 [==============================] - 1s 88us/step - loss: 0.0130 - acc: 0.9844 - val_loss: 0.1021 - val_acc: 0.8741\n",
      "Epoch 12/20\n",
      "15000/15000 [==============================] - 1s 90us/step - loss: 0.0040 - acc: 0.9961 - val_loss: 0.1214 - val_acc: 0.8532\n",
      "Epoch 13/20\n",
      "15000/15000 [==============================] - 1s 88us/step - loss: 0.0087 - acc: 0.9895 - val_loss: 0.1049 - val_acc: 0.8726\n",
      "Epoch 14/20\n",
      "15000/15000 [==============================] - 1s 87us/step - loss: 0.0088 - acc: 0.9899 - val_loss: 0.1096 - val_acc: 0.8681\n",
      "Epoch 15/20\n",
      "15000/15000 [==============================] - 1s 89us/step - loss: 0.0029 - acc: 0.9973 - val_loss: 0.1067 - val_acc: 0.8723\n",
      "Epoch 16/20\n",
      "15000/15000 [==============================] - 1s 87us/step - loss: 0.0026 - acc: 0.9974 - val_loss: 0.1087 - val_acc: 0.8704\n",
      "Epoch 17/20\n",
      "15000/15000 [==============================] - 1s 90us/step - loss: 0.0080 - acc: 0.9905 - val_loss: 0.1094 - val_acc: 0.8692\n",
      "Epoch 18/20\n",
      "15000/15000 [==============================] - 1s 90us/step - loss: 0.0022 - acc: 0.9979 - val_loss: 0.1172 - val_acc: 0.8624\n",
      "Epoch 19/20\n",
      "15000/15000 [==============================] - 1s 90us/step - loss: 0.0021 - acc: 0.9979 - val_loss: 0.1125 - val_acc: 0.8670\n",
      "Epoch 20/20\n",
      "15000/15000 [==============================] - 1s 89us/step - loss: 0.0077 - acc: 0.9908 - val_loss: 0.1118 - val_acc: 0.8700\n",
      "25000/25000 [==============================] - 2s 86us/step\n"
     ]
    }
   ],
   "source": [
    "model = models.Sequential()\n",
    "model.add(layers.Dense(32, activation='relu', input_shape=(10000,)))\n",
    "model.add(layers.Dense(32, activation='relu'))\n",
    "model.add(layers.Dense(32, activation='relu'))\n",
    "model.add(layers.Dense(1, activation='sigmoid'))\n",
    "\n",
    "model.compile(optimizer='rmsprop',\n",
    "             loss='mse',\n",
    "             metrics=['accuracy'])\n",
    "history = model.fit(partial_x_train,\n",
    "                   partial_y_train,\n",
    "                   epochs=20,\n",
    "                   batch_size=512,\n",
    "                   validation_data=(x_val, y_val))\n",
    "results = model.evaluate(x_test, y_test)"
   ]
  },
  {
   "cell_type": "code",
   "execution_count": 47,
   "metadata": {},
   "outputs": [
    {
     "data": {
      "image/png": "[encoded data removed]",
      "text/plain": [
       "<Figure size 432x288 with 1 Axes>"
      ]
     },
     "metadata": {},
     "output_type": "display_data"
    }
   ],
   "source": [
    "history_dict = history.history\n",
    "loss_values = history_dict['loss']\n",
    "val_loss_values = history_dict['val_loss']\n",
    "epochs = range(1, len(loss_values)+1)\n",
    "\n",
    "plt.plot(epochs, loss_values, 'bo', label='Training Loss')\n",
    "plt.plot(epochs, val_loss_values, 'b', label='Validation Loss')\n",
    "plt.title('Training and Validation Loss')\n",
    "plt.xlabel('Epochs')\n",
    "plt.ylabel('Loss')\n",
    "plt.legend()\n",
    "plt.show()"
   ]
  },
  {
   "cell_type": "code",
   "execution_count": 48,
   "metadata": {},
   "outputs": [
    {
     "name": "stdout",
     "output_type": "stream",
     "text": [
      "Epoch 1/4\n",
      "25000/25000 [==============================] - 2s 79us/step - loss: 0.1413 - acc: 0.8094\n",
      "Epoch 2/4\n",
      "25000/25000 [==============================] - 2s 61us/step - loss: 0.0713 - acc: 0.9087\n",
      "Epoch 3/4\n",
      "25000/25000 [==============================] - 2s 62us/step - loss: 0.0557 - acc: 0.9301\n",
      "Epoch 4/4\n",
      "25000/25000 [==============================] - 2s 62us/step - loss: 0.0445 - acc: 0.9443\n",
      "25000/25000 [==============================] - 2s 91us/step\n"
     ]
    }
   ],
   "source": [
    "model = models.Sequential()\n",
    "model.add(layers.Dense(32, activation='relu', input_shape=(10000,)))\n",
    "model.add(layers.Dense(32, activation='relu'))\n",
    "model.add(layers.Dense(32, activation='relu'))\n",
    "model.add(layers.Dense(1, activation='sigmoid'))\n",
    "\n",
    "model.compile(optimizer='rmsprop',\n",
    "             loss='mse',\n",
    "             metrics=['accuracy'])\n",
    "\n",
    "model.fit(x_train, y_train, epochs=4, batch_size=512)\n",
    "results = model.evaluate(x_test, y_test)"
   ]
  },
  {
   "cell_type": "code",
   "execution_count": 49,
   "metadata": {},
   "outputs": [
    {
     "name": "stdout",
     "output_type": "stream",
     "text": [
      "[0.09099854546785355, 0.87884]\n",
      "accuracy: 87.884\n"
     ]
    }
   ],
   "source": [
    "print(results)\n",
    "print(\"accuracy:\", results[1]*100)"
   ]
  },
  {
   "cell_type": "code",
   "execution_count": null,
   "metadata": {},
   "outputs": [],
   "source": []
  }
 ],
 "metadata": {
  "kernelspec": {
   "display_name": "keras36",
   "language": "python",
   "name": "keras36"
  },
  "language_info": {
   "codemirror_mode": {
    "name": "ipython",
    "version": 3
   },
   "file_extension": ".py",
   "mimetype": "text/x-python",
   "name": "python",
   "nbconvert_exporter": "python",
   "pygments_lexer": "ipython3",
   "version": "3.6.8"
  }
 },
 "nbformat": 4,
 "nbformat_minor": 2
}

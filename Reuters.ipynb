{
 "cells": [
  {
   "cell_type": "markdown",
   "metadata": {},
   "source": [
    "# Reuters Multiclass Classification\n",
    "From Deep Learning with Python, Chapter 3\n",
    "\n",
    "The Reuters dataset is a set of newswire stories and their topics published by Reuters in 1986. It consists of 8982 training stories and 2246 testing stories. There are 46 different topics which are unevenly distributed although each topic has at least 10 samples in the training set.\n",
    "\n",
    "_(How does this relate to the Reuters-21578 test set - [UCI Link](https://archive.ics.uci.edu/ml/datasets/reuters-21578+text+categorization+collection)?)_\n",
    "\n",
    "This is an example of a single-label, multiclass classification problem."
   ]
  },
  {
   "cell_type": "code",
   "execution_count": 1,
   "metadata": {},
   "outputs": [
    {
     "name": "stderr",
     "output_type": "stream",
     "text": [
      "Using TensorFlow backend.\n"
     ]
    }
   ],
   "source": [
    "from keras.datasets import reuters\n",
    "\n",
    "(train_data, train_labels), (test_data, test_labels) = reuters.load_data(num_words=10000)"
   ]
  },
  {
   "cell_type": "code",
   "execution_count": 2,
   "metadata": {},
   "outputs": [
    {
     "name": "stdout",
     "output_type": "stream",
     "text": [
      "8982 training samples\n",
      "2246 testing samples\n",
      "[1, 245, 273, 207, 156, 53, 74, 160, 26, 14, 46, 296, 26, 39, 74, 2979, 3554, 14, 46, 4689, 4329, 86, 61, 3499, 4795, 14, 61, 451, 4329, 17, 12]\n"
     ]
    }
   ],
   "source": [
    "print(\"{} training samples\".format(len(train_data)))\n",
    "print(\"{} testing samples\".format(len(test_data)))\n",
    "print(train_data[10])"
   ]
  },
  {
   "cell_type": "code",
   "execution_count": 3,
   "metadata": {},
   "outputs": [
    {
     "name": "stdout",
     "output_type": "stream",
     "text": [
      "training data: 1 (8982,) object\n",
      "training labels: 1 (8982,) int64\n"
     ]
    }
   ],
   "source": [
    "print(\"training data:\", train_data.ndim, train_data.shape, train_data.dtype)\n",
    "print(\"training labels:\", train_labels.ndim, train_labels.shape, train_labels.dtype)"
   ]
  },
  {
   "cell_type": "code",
   "execution_count": 4,
   "metadata": {},
   "outputs": [
    {
     "name": "stdout",
     "output_type": "stream",
     "text": [
      "? ? ? said as a result of its december acquisition of space co it expects earnings per share in 1987 of 1 15 to 1 30 dlrs per share up from 70 cts in 1986 the company said pretax net should rise to nine to 10 mln dlrs from six mln dlrs in 1986 and rental operation revenues to 19 to 22 mln dlrs from 12 5 mln dlrs it said cash flow per share this year should be 2 50 to three dlrs reuter 3\n"
     ]
    }
   ],
   "source": [
    "# Decoding newswires back to text\n",
    "word_index = reuters.get_word_index()\n",
    "reverse_word_index = dict([(value, key) for (key,value) in word_index.items()])\n",
    "decoded_newswire = [reverse_word_index.get(i-3, \"?\") for i in train_data[0]]\n",
    "print(\" \".join(decoded_newswire))"
   ]
  },
  {
   "cell_type": "markdown",
   "metadata": {},
   "source": [
    "## Vectorize the Data\n",
    "As before, convert the sequences of integers into one-hot encoded vectors i.e. 10K vectors with the indexes corresponding to the integer value of the words set to 1.\n",
    "\n",
    "The labels are also one-hot encoded -- also known as categorical encoded. This could be done using vectorize_sequences() but Keras has a utility that does it automatically."
   ]
  },
  {
   "cell_type": "code",
   "execution_count": 5,
   "metadata": {},
   "outputs": [],
   "source": [
    "import numpy as np\n",
    "\n",
    "def vectorize_sequences(sequences, dimension=10000):\n",
    "    results = np.zeros((len(sequences), dimension))\n",
    "    for i, sequence in enumerate(sequences):\n",
    "        results[i, sequence] = 1.\n",
    "    return results\n",
    "\n",
    "x_train = vectorize_sequences(train_data)\n",
    "x_test = vectorize_sequences(test_data)"
   ]
  },
  {
   "cell_type": "code",
   "execution_count": 6,
   "metadata": {},
   "outputs": [],
   "source": [
    "from keras.utils.np_utils import to_categorical\n",
    "\n",
    "one_hot_train_labels = to_categorical(train_labels)\n",
    "one_hot_test_labels = to_categorical(test_labels)"
   ]
  },
  {
   "cell_type": "code",
   "execution_count": 7,
   "metadata": {},
   "outputs": [
    {
     "name": "stdout",
     "output_type": "stream",
     "text": [
      "x_train: 2 (8982, 10000) float64\n",
      "y_train: 2 (8982, 46) float32\n"
     ]
    }
   ],
   "source": [
    "print(\"x_train:\", x_train.ndim, x_train.shape, x_train.dtype)\n",
    "print(\"y_train:\", one_hot_train_labels.ndim, one_hot_train_labels.shape, one_hot_train_labels.dtype)"
   ]
  },
  {
   "cell_type": "markdown",
   "metadata": {},
   "source": [
    "## Build the Model\n",
    "This is similar to the previous model but we increase the number of units in each hidden layer because there are 46 possible outputs. The last layer uses a \"softmax\" activation function which will cause it to output a probability distribution over the 46 possible output classes. The best loss function to usein this case is categorical_crossentropy which measures the distance between two probability distributions."
   ]
  },
  {
   "cell_type": "code",
   "execution_count": 8,
   "metadata": {},
   "outputs": [],
   "source": [
    "from keras import models\n",
    "from keras import layers\n",
    "\n",
    "model = models.Sequential()\n",
    "model.add(layers.Dense(64, activation='relu',input_shape=(10000,)))\n",
    "model.add(layers.Dense(64, activation='relu'))\n",
    "model.add(layers.Dense(46, activation='softmax'))\n",
    "model.compile(optimizer='rmsprop',\n",
    "             loss='categorical_crossentropy',\n",
    "             metrics=['accuracy'])"
   ]
  },
  {
   "cell_type": "markdown",
   "metadata": {},
   "source": [
    "## Validating Your Approach\n",
    "In order to monitor the accuracy of the model during training, we create a validation set by taking 1K samples from the original data. This allows us to check the model's accuracy against data that it has not been traing on."
   ]
  },
  {
   "cell_type": "code",
   "execution_count": 9,
   "metadata": {},
   "outputs": [],
   "source": [
    "x_val = x_train[:1000]\n",
    "partial_x_train = x_train[1000:]\n",
    "\n",
    "y_val = one_hot_train_labels[:1000]\n",
    "partial_y_train = one_hot_train_labels[1000:]"
   ]
  },
  {
   "cell_type": "markdown",
   "metadata": {},
   "source": [
    "## Training Your Model\n",
    "The call to ```model.fit()``` returns a ```History``` object which contains a ```history``` member which contains data about everything that happened during training."
   ]
  },
  {
   "cell_type": "code",
   "execution_count": 10,
   "metadata": {},
   "outputs": [
    {
     "name": "stdout",
     "output_type": "stream",
     "text": [
      "Train on 7982 samples, validate on 1000 samples\n",
      "Epoch 1/20\n",
      "7982/7982 [==============================] - 2s 255us/step - loss: 2.5322 - acc: 0.4955 - val_loss: 1.7208 - val_acc: 0.6120\n",
      "Epoch 2/20\n",
      "7982/7982 [==============================] - 1s 110us/step - loss: 1.4452 - acc: 0.6879 - val_loss: 1.3459 - val_acc: 0.7060\n",
      "Epoch 3/20\n",
      "7982/7982 [==============================] - 1s 113us/step - loss: 1.0953 - acc: 0.7650 - val_loss: 1.1714 - val_acc: 0.7430\n",
      "Epoch 4/20\n",
      "7982/7982 [==============================] - 1s 113us/step - loss: 0.8699 - acc: 0.8158 - val_loss: 1.0807 - val_acc: 0.7590\n",
      "Epoch 5/20\n",
      "7982/7982 [==============================] - 1s 112us/step - loss: 0.7036 - acc: 0.8475 - val_loss: 0.9846 - val_acc: 0.7820\n",
      "Epoch 6/20\n",
      "7982/7982 [==============================] - 1s 112us/step - loss: 0.5671 - acc: 0.8801 - val_loss: 0.9414 - val_acc: 0.8040\n",
      "Epoch 7/20\n",
      "7982/7982 [==============================] - 1s 113us/step - loss: 0.4586 - acc: 0.9050 - val_loss: 0.9091 - val_acc: 0.8020\n",
      "Epoch 8/20\n",
      "7982/7982 [==============================] - 1s 112us/step - loss: 0.3698 - acc: 0.9230 - val_loss: 0.9358 - val_acc: 0.7900\n",
      "Epoch 9/20\n",
      "7982/7982 [==============================] - 1s 113us/step - loss: 0.3034 - acc: 0.9307 - val_loss: 0.8910 - val_acc: 0.8090\n",
      "Epoch 10/20\n",
      "7982/7982 [==============================] - 1s 112us/step - loss: 0.2540 - acc: 0.9415 - val_loss: 0.9072 - val_acc: 0.8100\n",
      "Epoch 11/20\n",
      "7982/7982 [==============================] - 1s 114us/step - loss: 0.2188 - acc: 0.9469 - val_loss: 0.9167 - val_acc: 0.8130\n",
      "Epoch 12/20\n",
      "7982/7982 [==============================] - 1s 118us/step - loss: 0.1878 - acc: 0.9510 - val_loss: 0.9065 - val_acc: 0.8120\n",
      "Epoch 13/20\n",
      "7982/7982 [==============================] - 1s 117us/step - loss: 0.1704 - acc: 0.9523 - val_loss: 0.9357 - val_acc: 0.8090\n",
      "Epoch 14/20\n",
      "7982/7982 [==============================] - 1s 115us/step - loss: 0.1539 - acc: 0.9554 - val_loss: 0.9681 - val_acc: 0.8080\n",
      "Epoch 15/20\n",
      "7982/7982 [==============================] - 1s 119us/step - loss: 0.1391 - acc: 0.9558 - val_loss: 0.9687 - val_acc: 0.8140\n",
      "Epoch 16/20\n",
      "7982/7982 [==============================] - 1s 122us/step - loss: 0.1316 - acc: 0.9564 - val_loss: 1.0222 - val_acc: 0.8050\n",
      "Epoch 17/20\n",
      "7982/7982 [==============================] - 1s 124us/step - loss: 0.1221 - acc: 0.9577 - val_loss: 1.0318 - val_acc: 0.7940\n",
      "Epoch 18/20\n",
      "7982/7982 [==============================] - 1s 116us/step - loss: 0.1200 - acc: 0.9579 - val_loss: 1.0448 - val_acc: 0.8050\n",
      "Epoch 19/20\n",
      "7982/7982 [==============================] - 1s 116us/step - loss: 0.1139 - acc: 0.9595 - val_loss: 1.0993 - val_acc: 0.7980\n",
      "Epoch 20/20\n",
      "7982/7982 [==============================] - 1s 124us/step - loss: 0.1116 - acc: 0.9594 - val_loss: 1.0692 - val_acc: 0.8010\n"
     ]
    }
   ],
   "source": [
    "history = model.fit(partial_x_train,\n",
    "                   partial_y_train,\n",
    "                   epochs=20,\n",
    "                   batch_size=512,\n",
    "                   validation_data=(x_val, y_val))"
   ]
  },
  {
   "cell_type": "markdown",
   "metadata": {},
   "source": [
    "## Plotting the Training and Validation Loss"
   ]
  },
  {
   "cell_type": "code",
   "execution_count": 12,
   "metadata": {},
   "outputs": [
    {
     "data": {
      "image/png": "[encoded data removed]",
      "text/plain": [
       "<Figure size 432x288 with 1 Axes>"
      ]
     },
     "metadata": {},
     "output_type": "display_data"
    }
   ],
   "source": [
    "import matplotlib.pyplot as plt\n",
    "\n",
    "history_dict = history.history\n",
    "loss_values = history_dict['loss']\n",
    "val_loss_values = history_dict['val_loss']\n",
    "epochs = range(1, len(loss_values)+1)\n",
    "\n",
    "plt.plot(epochs, loss_values, 'bo', label='Training Loss')\n",
    "plt.plot(epochs, val_loss_values, 'b', label='Validation Loss')\n",
    "plt.title('Training and Validation Loss')\n",
    "plt.xlabel('Epochs')\n",
    "plt.ylabel('Loss')\n",
    "plt.legend()\n",
    "plt.show()"
   ]
  },
  {
   "cell_type": "markdown",
   "metadata": {},
   "source": [
    "## Plotting the Training and Validation Accuracy"
   ]
  },
  {
   "cell_type": "code",
   "execution_count": 13,
   "metadata": {},
   "outputs": [
    {
     "data": {
      "image/png": "[encoded data removed]",
      "text/plain": [
       "<Figure size 432x288 with 1 Axes>"
      ]
     },
     "metadata": {},
     "output_type": "display_data"
    }
   ],
   "source": [
    "plt.clf()\n",
    "\n",
    "acc_values = history_dict['acc']\n",
    "val_acc_values = history_dict['val_acc']\n",
    "epochs = range(1, len(loss_values)+1)\n",
    "\n",
    "plt.plot(epochs, acc_values, 'bo', label='Training Accuracy')\n",
    "plt.plot(epochs, val_acc_values, 'b', label='Validation Accuracy')\n",
    "plt.title('Training and Validation Accuracy')\n",
    "plt.xlabel('Epochs')\n",
    "plt.ylabel('Accuracy')\n",
    "plt.legend()\n",
    "plt.show()"
   ]
  },
  {
   "cell_type": "markdown",
   "metadata": {},
   "source": [
    "## Retraining the Model from Scratch"
   ]
  },
  {
   "cell_type": "code",
   "execution_count": 14,
   "metadata": {},
   "outputs": [
    {
     "name": "stdout",
     "output_type": "stream",
     "text": [
      "Train on 7982 samples, validate on 1000 samples\n",
      "Epoch 1/9\n",
      "7982/7982 [==============================] - 1s 124us/step - loss: 2.5402 - acc: 0.5222 - val_loss: 1.6738 - val_acc: 0.6530\n",
      "Epoch 2/9\n",
      "7982/7982 [==============================] - 1s 111us/step - loss: 1.3713 - acc: 0.7127 - val_loss: 1.2764 - val_acc: 0.7180\n",
      "Epoch 3/9\n",
      "7982/7982 [==============================] - 1s 113us/step - loss: 1.0141 - acc: 0.7783 - val_loss: 1.1323 - val_acc: 0.7500\n",
      "Epoch 4/9\n",
      "7982/7982 [==============================] - 1s 113us/step - loss: 0.7982 - acc: 0.8251 - val_loss: 1.0539 - val_acc: 0.7600\n",
      "Epoch 5/9\n",
      "7982/7982 [==============================] - 1s 116us/step - loss: 0.6395 - acc: 0.8627 - val_loss: 0.9752 - val_acc: 0.7940\n",
      "Epoch 6/9\n",
      "7982/7982 [==============================] - 1s 114us/step - loss: 0.5122 - acc: 0.8925 - val_loss: 0.9107 - val_acc: 0.8120\n",
      "Epoch 7/9\n",
      "7982/7982 [==============================] - 1s 120us/step - loss: 0.4119 - acc: 0.9143 - val_loss: 0.8932 - val_acc: 0.8210\n",
      "Epoch 8/9\n",
      "7982/7982 [==============================] - 1s 114us/step - loss: 0.3355 - acc: 0.9287 - val_loss: 0.8729 - val_acc: 0.8260\n",
      "Epoch 9/9\n",
      "7982/7982 [==============================] - 1s 113us/step - loss: 0.2782 - acc: 0.9375 - val_loss: 0.9337 - val_acc: 0.8020\n",
      "2246/2246 [==============================] - 0s 121us/step\n"
     ]
    }
   ],
   "source": [
    "model = models.Sequential()\n",
    "model.add(layers.Dense(64, activation='relu',input_shape=(10000,)))\n",
    "model.add(layers.Dense(64, activation='relu'))\n",
    "model.add(layers.Dense(46, activation='softmax'))\n",
    "model.compile(optimizer='rmsprop',\n",
    "             loss='categorical_crossentropy',\n",
    "             metrics=['accuracy'])\n",
    "history = model.fit(partial_x_train,\n",
    "                   partial_y_train,\n",
    "                   epochs=9,\n",
    "                   batch_size=512,\n",
    "                   validation_data=(x_val, y_val))\n",
    "results = model.evaluate(x_test, one_hot_test_labels)"
   ]
  },
  {
   "cell_type": "code",
   "execution_count": 15,
   "metadata": {},
   "outputs": [
    {
     "name": "stdout",
     "output_type": "stream",
     "text": [
      "Results: [1.0220439414944058, 0.7764915405695499]\n"
     ]
    }
   ],
   "source": [
    "print(\"Results:\", results)"
   ]
  },
  {
   "cell_type": "markdown",
   "metadata": {},
   "source": [
    "This gives an accuracy of ~78%. Compare this to a random classifier:"
   ]
  },
  {
   "cell_type": "code",
   "execution_count": 16,
   "metadata": {},
   "outputs": [
    {
     "name": "stdout",
     "output_type": "stream",
     "text": [
      "random accuracy: 0.182546749777382\n"
     ]
    }
   ],
   "source": [
    "import copy\n",
    "test_labels_copy = copy.copy(test_labels)\n",
    "np.random.shuffle(test_labels_copy)\n",
    "hits_array = np.array(test_labels) == np.array(test_labels_copy)\n",
    "print(\"random accuracy:\", float(np.sum(hits_array))/len(test_labels))"
   ]
  },
  {
   "cell_type": "markdown",
   "metadata": {},
   "source": [
    "## Generating Predictions on New Data"
   ]
  },
  {
   "cell_type": "code",
   "execution_count": 17,
   "metadata": {},
   "outputs": [
    {
     "name": "stdout",
     "output_type": "stream",
     "text": [
      "predictions: 2 (2246, 46) float32\n"
     ]
    }
   ],
   "source": [
    "predictions = model.predict(x_test)\n",
    "print(\"predictions:\", predictions.ndim, predictions.shape, predictions.dtype)"
   ]
  },
  {
   "cell_type": "code",
   "execution_count": 18,
   "metadata": {},
   "outputs": [
    {
     "name": "stdout",
     "output_type": "stream",
     "text": [
      "0.99999994\n"
     ]
    }
   ],
   "source": [
    "# verify that the probabilities in a prediction sum to 1\n",
    "print(np.sum(predictions[0]))"
   ]
  },
  {
   "cell_type": "code",
   "execution_count": 19,
   "metadata": {},
   "outputs": [
    {
     "name": "stdout",
     "output_type": "stream",
     "text": [
      "[1.0642886e-05 8.1068370e-05 2.5746222e-05 9.7177839e-01 1.7057892e-02\n",
      " 1.1642452e-07 8.8585773e-05 3.1081974e-05 3.2074451e-03 2.1114970e-06\n",
      " 3.0945062e-05 1.5532039e-03 5.0456270e-05 2.6648800e-05 4.3824434e-06\n",
      " 1.8163822e-05 9.3397498e-04 1.9112643e-04 2.8083156e-04 1.1390189e-03\n",
      " 7.5731735e-04 4.4485461e-04 7.0230226e-06 5.1655512e-05 1.2498930e-05\n",
      " 3.0360903e-04 2.5147256e-06 2.6472377e-05 8.1189501e-06 9.8914716e-05\n",
      " 3.4696018e-04 1.9335317e-04 1.1334881e-05 3.9051505e-05 3.7262886e-05\n",
      " 2.0709464e-05 1.5663520e-04 4.6035559e-05 9.4092902e-05 2.8505389e-04\n",
      " 3.3509088e-05 4.6048863e-04 1.8435343e-06 3.3028991e-05 6.4102082e-06\n",
      " 9.3290037e-06]\n"
     ]
    }
   ],
   "source": [
    "print(predictions[0])"
   ]
  },
  {
   "cell_type": "code",
   "execution_count": 20,
   "metadata": {},
   "outputs": [
    {
     "name": "stdout",
     "output_type": "stream",
     "text": [
      "3\n"
     ]
    }
   ],
   "source": [
    "# Find the class with the highest probability\n",
    "print(np.argmax(predictions[0]))"
   ]
  },
  {
   "cell_type": "markdown",
   "metadata": {},
   "source": [
    "### A Diferent Way to Handle Labels and Loss\n",
    "An alternative way to encode the labels would be to convert them into an integer tensor:\n",
    "\n",
    "        y_train = np.array(train_labels)\n",
    "        y_test = np.array(test_labels)\n",
    "\n",
    "In this case, you would need to change your loss function to \"sparse_categorical_crossentropy\"\n",
    "\n",
    "        model.compile(optimizer='rmsprop',\n",
    "                      loss='sparse_categorical_crossentropy',\n",
    "                      metrics='['acc'])\n"
   ]
  },
  {
   "cell_type": "markdown",
   "metadata": {},
   "source": [
    "## Further Experiments"
   ]
  },
  {
   "cell_type": "markdown",
   "metadata": {},
   "source": [
    "### 1. Try using 32-unit hidden layers"
   ]
  },
  {
   "cell_type": "code",
   "execution_count": 21,
   "metadata": {},
   "outputs": [
    {
     "name": "stdout",
     "output_type": "stream",
     "text": [
      "Train on 7982 samples, validate on 1000 samples\n",
      "Epoch 1/9\n",
      "7982/7982 [==============================] - 1s 101us/step - loss: 3.0420 - acc: 0.4959 - val_loss: 2.3143 - val_acc: 0.5780\n",
      "Epoch 2/9\n",
      "7982/7982 [==============================] - 1s 84us/step - loss: 1.9050 - acc: 0.6254 - val_loss: 1.6516 - val_acc: 0.6490\n",
      "Epoch 3/9\n",
      "7982/7982 [==============================] - 1s 82us/step - loss: 1.4018 - acc: 0.7013 - val_loss: 1.3732 - val_acc: 0.7000\n",
      "Epoch 4/9\n",
      "7982/7982 [==============================] - 1s 81us/step - loss: 1.1370 - acc: 0.7534 - val_loss: 1.2102 - val_acc: 0.7290\n",
      "Epoch 5/9\n",
      "7982/7982 [==============================] - 1s 83us/step - loss: 0.9591 - acc: 0.7937 - val_loss: 1.1103 - val_acc: 0.7510\n",
      "Epoch 6/9\n",
      "7982/7982 [==============================] - 1s 83us/step - loss: 0.8200 - acc: 0.8256 - val_loss: 1.0520 - val_acc: 0.7630\n",
      "Epoch 7/9\n",
      "7982/7982 [==============================] - 1s 84us/step - loss: 0.7067 - acc: 0.8460 - val_loss: 0.9879 - val_acc: 0.7810\n",
      "Epoch 8/9\n",
      "7982/7982 [==============================] - 1s 82us/step - loss: 0.6086 - acc: 0.8664 - val_loss: 0.9682 - val_acc: 0.7960\n",
      "Epoch 9/9\n",
      "7982/7982 [==============================] - 1s 94us/step - loss: 0.5266 - acc: 0.8834 - val_loss: 0.9416 - val_acc: 0.7930\n",
      "2246/2246 [==============================] - 0s 91us/step\n",
      "Results: [0.995545125495931, 0.7751558326443496]\n"
     ]
    }
   ],
   "source": [
    "model = models.Sequential()\n",
    "model.add(layers.Dense(32, activation='relu',input_shape=(10000,)))\n",
    "model.add(layers.Dense(32, activation='relu'))\n",
    "model.add(layers.Dense(46, activation='softmax'))\n",
    "model.compile(optimizer='rmsprop',\n",
    "             loss='categorical_crossentropy',\n",
    "             metrics=['accuracy'])\n",
    "history = model.fit(partial_x_train,\n",
    "                   partial_y_train,\n",
    "                   epochs=9,\n",
    "                   batch_size=512,\n",
    "                   validation_data=(x_val, y_val))\n",
    "results = model.evaluate(x_test, one_hot_test_labels)\n",
    "print(\"Results:\", results)"
   ]
  },
  {
   "cell_type": "markdown",
   "metadata": {},
   "source": [
    "### 2. Try using 128 unit hidden layers"
   ]
  },
  {
   "cell_type": "code",
   "execution_count": 22,
   "metadata": {},
   "outputs": [
    {
     "name": "stdout",
     "output_type": "stream",
     "text": [
      "Train on 7982 samples, validate on 1000 samples\n",
      "Epoch 1/9\n",
      "7982/7982 [==============================] - 1s 180us/step - loss: 2.2403 - acc: 0.5251 - val_loss: 1.3922 - val_acc: 0.6810\n",
      "Epoch 2/9\n",
      "7982/7982 [==============================] - 1s 154us/step - loss: 1.1567 - acc: 0.7489 - val_loss: 1.1159 - val_acc: 0.7630\n",
      "Epoch 3/9\n",
      "7982/7982 [==============================] - 1s 155us/step - loss: 0.8098 - acc: 0.8266 - val_loss: 1.0090 - val_acc: 0.7790\n",
      "Epoch 4/9\n",
      "7982/7982 [==============================] - 1s 155us/step - loss: 0.5934 - acc: 0.8773 - val_loss: 0.9372 - val_acc: 0.7950\n",
      "Epoch 5/9\n",
      "7982/7982 [==============================] - 1s 156us/step - loss: 0.4287 - acc: 0.9112 - val_loss: 0.8927 - val_acc: 0.8150\n",
      "Epoch 6/9\n",
      "7982/7982 [==============================] - 1s 155us/step - loss: 0.3246 - acc: 0.9330 - val_loss: 0.8799 - val_acc: 0.8240\n",
      "Epoch 7/9\n",
      "7982/7982 [==============================] - 1s 158us/step - loss: 0.2539 - acc: 0.9445 - val_loss: 0.9215 - val_acc: 0.8080\n",
      "Epoch 8/9\n",
      "7982/7982 [==============================] - 1s 159us/step - loss: 0.2126 - acc: 0.9486 - val_loss: 0.9038 - val_acc: 0.8220\n",
      "Epoch 9/9\n",
      "7982/7982 [==============================] - 1s 164us/step - loss: 0.1819 - acc: 0.9520 - val_loss: 0.9594 - val_acc: 0.8150\n",
      "2246/2246 [==============================] - 0s 178us/step\n",
      "Results: [1.0488836682490335, 0.7853962600178095]\n"
     ]
    }
   ],
   "source": [
    "model = models.Sequential()\n",
    "model.add(layers.Dense(128, activation='relu',input_shape=(10000,)))\n",
    "model.add(layers.Dense(128, activation='relu'))\n",
    "model.add(layers.Dense(46, activation='softmax'))\n",
    "model.compile(optimizer='rmsprop',\n",
    "             loss='categorical_crossentropy',\n",
    "             metrics=['accuracy'])\n",
    "history = model.fit(partial_x_train,\n",
    "                   partial_y_train,\n",
    "                   epochs=9,\n",
    "                   batch_size=512,\n",
    "                   validation_data=(x_val, y_val))\n",
    "results = model.evaluate(x_test, one_hot_test_labels)\n",
    "print(\"Results:\", results)"
   ]
  },
  {
   "cell_type": "markdown",
   "metadata": {},
   "source": [
    "### 3. Try using 1 hidden layer"
   ]
  },
  {
   "cell_type": "code",
   "execution_count": 23,
   "metadata": {},
   "outputs": [
    {
     "name": "stdout",
     "output_type": "stream",
     "text": [
      "Train on 7982 samples, validate on 1000 samples\n",
      "Epoch 1/9\n",
      "7982/7982 [==============================] - 1s 131us/step - loss: 2.5599 - acc: 0.5796 - val_loss: 1.7985 - val_acc: 0.6620\n",
      "Epoch 2/9\n",
      "7982/7982 [==============================] - 1s 110us/step - loss: 1.4454 - acc: 0.7214 - val_loss: 1.3311 - val_acc: 0.7210\n",
      "Epoch 3/9\n",
      "7982/7982 [==============================] - 1s 108us/step - loss: 1.0492 - acc: 0.7858 - val_loss: 1.1277 - val_acc: 0.7670\n",
      "Epoch 4/9\n",
      "7982/7982 [==============================] - 1s 108us/step - loss: 0.8210 - acc: 0.8326 - val_loss: 1.0177 - val_acc: 0.7880\n",
      "Epoch 5/9\n",
      "7982/7982 [==============================] - 1s 108us/step - loss: 0.6604 - acc: 0.8682 - val_loss: 0.9411 - val_acc: 0.8030\n",
      "Epoch 6/9\n",
      "7982/7982 [==============================] - 1s 112us/step - loss: 0.5399 - acc: 0.8914 - val_loss: 0.8971 - val_acc: 0.8100\n",
      "Epoch 7/9\n",
      "7982/7982 [==============================] - 1s 112us/step - loss: 0.4436 - acc: 0.9090 - val_loss: 0.8529 - val_acc: 0.8210\n",
      "Epoch 8/9\n",
      "7982/7982 [==============================] - 1s 113us/step - loss: 0.3700 - acc: 0.9246 - val_loss: 0.8365 - val_acc: 0.8220\n",
      "Epoch 9/9\n",
      "7982/7982 [==============================] - 1s 117us/step - loss: 0.3113 - acc: 0.9322 - val_loss: 0.8107 - val_acc: 0.8320\n",
      "2246/2246 [==============================] - 0s 126us/step\n",
      "Results: [0.9103519436724995, 0.7943009795191451]\n"
     ]
    }
   ],
   "source": [
    "model = models.Sequential()\n",
    "model.add(layers.Dense(64, activation='relu',input_shape=(10000,)))\n",
    "model.add(layers.Dense(46, activation='softmax'))\n",
    "model.compile(optimizer='rmsprop',\n",
    "             loss='categorical_crossentropy',\n",
    "             metrics=['accuracy'])\n",
    "history = model.fit(partial_x_train,\n",
    "                   partial_y_train,\n",
    "                   epochs=9,\n",
    "                   batch_size=512,\n",
    "                   validation_data=(x_val, y_val))\n",
    "results = model.evaluate(x_test, one_hot_test_labels)\n",
    "print(\"Results:\", results)"
   ]
  },
  {
   "cell_type": "markdown",
   "metadata": {},
   "source": [
    "### 4 Try using 3 hidden layers"
   ]
  },
  {
   "cell_type": "code",
   "execution_count": 24,
   "metadata": {},
   "outputs": [
    {
     "name": "stdout",
     "output_type": "stream",
     "text": [
      "Train on 7982 samples, validate on 1000 samples\n",
      "Epoch 1/9\n",
      "7982/7982 [==============================] - 1s 144us/step - loss: 2.5310 - acc: 0.4595 - val_loss: 1.6654 - val_acc: 0.6060\n",
      "Epoch 2/9\n",
      "7982/7982 [==============================] - 1s 112us/step - loss: 1.4217 - acc: 0.6835 - val_loss: 1.3320 - val_acc: 0.7070\n",
      "Epoch 3/9\n",
      "7982/7982 [==============================] - 1s 113us/step - loss: 1.0833 - acc: 0.7616 - val_loss: 1.1771 - val_acc: 0.7480\n",
      "Epoch 4/9\n",
      "7982/7982 [==============================] - 1s 112us/step - loss: 0.8613 - acc: 0.8141 - val_loss: 1.0723 - val_acc: 0.7830\n",
      "Epoch 5/9\n",
      "7982/7982 [==============================] - 1s 113us/step - loss: 0.6939 - acc: 0.8438 - val_loss: 1.0052 - val_acc: 0.7890\n",
      "Epoch 6/9\n",
      "7982/7982 [==============================] - 1s 113us/step - loss: 0.5612 - acc: 0.8732 - val_loss: 0.9920 - val_acc: 0.7930\n",
      "Epoch 7/9\n",
      "7982/7982 [==============================] - 1s 113us/step - loss: 0.4548 - acc: 0.9009 - val_loss: 0.9936 - val_acc: 0.7870\n",
      "Epoch 8/9\n",
      "7982/7982 [==============================] - 1s 114us/step - loss: 0.3600 - acc: 0.9207 - val_loss: 0.9979 - val_acc: 0.7910\n",
      "Epoch 9/9\n",
      "7982/7982 [==============================] - 1s 115us/step - loss: 0.3018 - acc: 0.9327 - val_loss: 0.9948 - val_acc: 0.8020\n",
      "2246/2246 [==============================] - 0s 117us/step\n",
      "Results: [1.1136978487828324, 0.7733748887440824]\n"
     ]
    }
   ],
   "source": [
    "model4 = models.Sequential()\n",
    "model4.add(layers.Dense(64, activation='relu',input_shape=(10000,)))\n",
    "model4.add(layers.Dense(64, activation='relu'))\n",
    "model4.add(layers.Dense(64, activation='relu'))\n",
    "model4.add(layers.Dense(46, activation='softmax'))\n",
    "model4.compile(optimizer='rmsprop',\n",
    "               loss='categorical_crossentropy',\n",
    "               metrics=['accuracy'])\n",
    "history4 = model4.fit(partial_x_train,\n",
    "                     partial_y_train,\n",
    "                     epochs=9,\n",
    "                     batch_size=512,\n",
    "                     validation_data=(x_val, y_val))\n",
    "results4 = model4.evaluate(x_test, one_hot_test_labels)\n",
    "print(\"Results:\", results4)"
   ]
  },
  {
   "cell_type": "code",
   "execution_count": null,
   "metadata": {},
   "outputs": [],
   "source": []
  }
 ],
 "metadata": {
  "kernelspec": {
   "display_name": "keras36",
   "language": "python",
   "name": "keras36"
  },
  "language_info": {
   "codemirror_mode": {
    "name": "ipython",
    "version": 3
   },
   "file_extension": ".py",
   "mimetype": "text/x-python",
   "name": "python",
   "nbconvert_exporter": "python",
   "pygments_lexer": "ipython3",
   "version": "3.6.8"
  }
 },
 "nbformat": 4,
 "nbformat_minor": 2
}
